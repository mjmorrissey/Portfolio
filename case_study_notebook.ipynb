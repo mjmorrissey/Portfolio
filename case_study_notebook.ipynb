{
 "cells": [
  {
   "cell_type": "markdown",
   "metadata": {},
   "source": [
    "# Michael Morrissey Case Study for Trivago\n",
    "## September 24th, 2021"
   ]
  },
  {
   "cell_type": "code",
   "execution_count": 1,
   "metadata": {},
   "outputs": [],
   "source": [
    "import matplotlib.pyplot as plt\n",
    "plt.style.use('ggplot') # Make the graphs a bit prettier, and bigger\n",
    "plt.rcParams['figure.figsize'] = (15, 5)\n",
    "import trivago_functions as tf\n",
    "# Render our plots inline\n",
    "%matplotlib inline "
   ]
  },
  {
   "cell_type": "markdown",
   "metadata": {},
   "source": [
    "# Dataset Overview"
   ]
  },
  {
   "cell_type": "markdown",
   "metadata": {},
   "source": [
    "#### Importing Dataset"
   ]
  },
  {
   "cell_type": "code",
   "execution_count": 2,
   "metadata": {},
   "outputs": [],
   "source": [
    "data = tf.import_dataset('case_study_marketing_20210201.csv')"
   ]
  },
  {
   "cell_type": "markdown",
   "metadata": {},
   "source": [
    "#### Dataset Preview"
   ]
  },
  {
   "cell_type": "code",
   "execution_count": 3,
   "metadata": {},
   "outputs": [
    {
     "data": {
      "text/html": [
       "<div>\n",
       "<style scoped>\n",
       "    .dataframe tbody tr th:only-of-type {\n",
       "        vertical-align: middle;\n",
       "    }\n",
       "\n",
       "    .dataframe tbody tr th {\n",
       "        vertical-align: top;\n",
       "    }\n",
       "\n",
       "    .dataframe thead th {\n",
       "        text-align: right;\n",
       "    }\n",
       "</style>\n",
       "<table border=\"1\" class=\"dataframe\">\n",
       "  <thead>\n",
       "    <tr style=\"text-align: right;\">\n",
       "      <th></th>\n",
       "      <th>ymd</th>\n",
       "      <th>market_code</th>\n",
       "      <th>account_id</th>\n",
       "      <th>pub_campaign_id</th>\n",
       "      <th>pub_adgroup_id</th>\n",
       "      <th>pub_keyword_id</th>\n",
       "      <th>keyword_name</th>\n",
       "      <th>pub_device</th>\n",
       "      <th>match_type</th>\n",
       "      <th>theme_name_english</th>\n",
       "      <th>replacement_type_name</th>\n",
       "      <th>impressions</th>\n",
       "      <th>clickins</th>\n",
       "      <th>cost</th>\n",
       "      <th>clickout</th>\n",
       "      <th>bookings</th>\n",
       "      <th>clickout_rev</th>\n",
       "      <th>booking_amount</th>\n",
       "      <th>users_engagement</th>\n",
       "    </tr>\n",
       "  </thead>\n",
       "  <tbody>\n",
       "    <tr>\n",
       "      <th>0</th>\n",
       "      <td>20200905</td>\n",
       "      <td>DE</td>\n",
       "      <td>321</td>\n",
       "      <td>11312819993</td>\n",
       "      <td>114584083847</td>\n",
       "      <td>4729772737</td>\n",
       "      <td>neos marmaras hotels</td>\n",
       "      <td>phone</td>\n",
       "      <td>0</td>\n",
       "      <td>Hotel</td>\n",
       "      <td>City</td>\n",
       "      <td>1</td>\n",
       "      <td>0</td>\n",
       "      <td>0</td>\n",
       "      <td>0</td>\n",
       "      <td>0.0</td>\n",
       "      <td>0</td>\n",
       "      <td>0.0</td>\n",
       "      <td>490</td>\n",
       "    </tr>\n",
       "    <tr>\n",
       "      <th>1</th>\n",
       "      <td>20200905</td>\n",
       "      <td>DE</td>\n",
       "      <td>515</td>\n",
       "      <td>180791594</td>\n",
       "      <td>3133140280</td>\n",
       "      <td>76004101942085</td>\n",
       "      <td>altstadt florenz</td>\n",
       "      <td>desktop</td>\n",
       "      <td>0</td>\n",
       "      <td>HotelsHistoricCity</td>\n",
       "      <td>City</td>\n",
       "      <td>1</td>\n",
       "      <td>0</td>\n",
       "      <td>0</td>\n",
       "      <td>0</td>\n",
       "      <td>0.0</td>\n",
       "      <td>0</td>\n",
       "      <td>0.0</td>\n",
       "      <td>455</td>\n",
       "    </tr>\n",
       "    <tr>\n",
       "      <th>2</th>\n",
       "      <td>20200905</td>\n",
       "      <td>UK</td>\n",
       "      <td>505</td>\n",
       "      <td>180388254</td>\n",
       "      <td>1211662269993764</td>\n",
       "      <td>75729226461556</td>\n",
       "      <td>+apartment +wigan</td>\n",
       "      <td>desktop</td>\n",
       "      <td>2</td>\n",
       "      <td>Apartment</td>\n",
       "      <td>City</td>\n",
       "      <td>4</td>\n",
       "      <td>0</td>\n",
       "      <td>0</td>\n",
       "      <td>0</td>\n",
       "      <td>0.0</td>\n",
       "      <td>0</td>\n",
       "      <td>0.0</td>\n",
       "      <td>207</td>\n",
       "    </tr>\n",
       "    <tr>\n",
       "      <th>3</th>\n",
       "      <td>20200905</td>\n",
       "      <td>AU</td>\n",
       "      <td>391</td>\n",
       "      <td>11144550479</td>\n",
       "      <td>112858143241</td>\n",
       "      <td>93007224</td>\n",
       "      <td>accommodation jervis bay</td>\n",
       "      <td>tablet</td>\n",
       "      <td>1</td>\n",
       "      <td>Accommodation</td>\n",
       "      <td>City</td>\n",
       "      <td>1</td>\n",
       "      <td>0</td>\n",
       "      <td>0</td>\n",
       "      <td>0</td>\n",
       "      <td>0.0</td>\n",
       "      <td>0</td>\n",
       "      <td>0.0</td>\n",
       "      <td>253</td>\n",
       "    </tr>\n",
       "    <tr>\n",
       "      <th>4</th>\n",
       "      <td>20200905</td>\n",
       "      <td>BR</td>\n",
       "      <td>318</td>\n",
       "      <td>619614653</td>\n",
       "      <td>10709471032</td>\n",
       "      <td>4576251921</td>\n",
       "      <td>hoteis em Dubai</td>\n",
       "      <td>phone</td>\n",
       "      <td>0</td>\n",
       "      <td>Hotel</td>\n",
       "      <td>City</td>\n",
       "      <td>13</td>\n",
       "      <td>1</td>\n",
       "      <td>6</td>\n",
       "      <td>0</td>\n",
       "      <td>0.0</td>\n",
       "      <td>0</td>\n",
       "      <td>0.0</td>\n",
       "      <td>273</td>\n",
       "    </tr>\n",
       "  </tbody>\n",
       "</table>\n",
       "</div>"
      ],
      "text/plain": [
       "        ymd market_code  account_id  pub_campaign_id    pub_adgroup_id  \\\n",
       "0  20200905          DE         321      11312819993      114584083847   \n",
       "1  20200905          DE         515        180791594        3133140280   \n",
       "2  20200905          UK         505        180388254  1211662269993764   \n",
       "3  20200905          AU         391      11144550479      112858143241   \n",
       "4  20200905          BR         318        619614653       10709471032   \n",
       "\n",
       "   pub_keyword_id              keyword_name pub_device  match_type  \\\n",
       "0      4729772737      neos marmaras hotels      phone           0   \n",
       "1  76004101942085          altstadt florenz    desktop           0   \n",
       "2  75729226461556         +apartment +wigan    desktop           2   \n",
       "3        93007224  accommodation jervis bay     tablet           1   \n",
       "4      4576251921           hoteis em Dubai      phone           0   \n",
       "\n",
       "   theme_name_english replacement_type_name  impressions  clickins  cost  \\\n",
       "0               Hotel                  City            1         0     0   \n",
       "1  HotelsHistoricCity                  City            1         0     0   \n",
       "2           Apartment                  City            4         0     0   \n",
       "3       Accommodation                  City            1         0     0   \n",
       "4               Hotel                  City           13         1     6   \n",
       "\n",
       "   clickout  bookings  clickout_rev  booking_amount  users_engagement  \n",
       "0         0       0.0             0             0.0               490  \n",
       "1         0       0.0             0             0.0               455  \n",
       "2         0       0.0             0             0.0               207  \n",
       "3         0       0.0             0             0.0               253  \n",
       "4         0       0.0             0             0.0               273  "
      ]
     },
     "execution_count": 3,
     "metadata": {},
     "output_type": "execute_result"
    }
   ],
   "source": [
    "data.head()"
   ]
  },
  {
   "cell_type": "markdown",
   "metadata": {},
   "source": [
    "#### Number of Bookings per Ad"
   ]
  },
  {
   "cell_type": "code",
   "execution_count": 4,
   "metadata": {},
   "outputs": [
    {
     "data": {
      "image/png": "[encoded data removed]",
      "text/plain": [
       "<Figure size 432x288 with 1 Axes>"
      ]
     },
     "metadata": {
      "needs_background": "light"
     },
     "output_type": "display_data"
    }
   ],
   "source": [
    "tf.show_number_of_bookings_bar(data)"
   ]
  },
  {
   "cell_type": "code",
   "execution_count": 5,
   "metadata": {},
   "outputs": [
    {
     "data": {
      "image/png": "[encoded data removed]",
      "text/plain": [
       "<Figure size 432x288 with 1 Axes>"
      ]
     },
     "metadata": {
      "needs_background": "light"
     },
     "output_type": "display_data"
    }
   ],
   "source": [
    "tf.show_number_of_bookings_histogram(data)"
   ]
  },
  {
   "cell_type": "markdown",
   "metadata": {},
   "source": [
    "#### Number of Ads that had at least one booking"
   ]
  },
  {
   "cell_type": "code",
   "execution_count": 6,
   "metadata": {},
   "outputs": [
    {
     "name": "stdout",
     "output_type": "stream",
     "text": [
      "number of ads with at least one booking:  2138\n"
     ]
    },
    {
     "data": {
      "image/png": "[encoded data removed]",
      "text/plain": [
       "<Figure size 432x288 with 1 Axes>"
      ]
     },
     "metadata": {
      "needs_background": "light"
     },
     "output_type": "display_data"
    }
   ],
   "source": [
    "tf.show_number_of_ads_with_at_least_one_booking_histogram(data)"
   ]
  },
  {
   "cell_type": "markdown",
   "metadata": {},
   "source": [
    "#### Number of Ads that had at least two bookings"
   ]
  },
  {
   "cell_type": "code",
   "execution_count": 7,
   "metadata": {},
   "outputs": [
    {
     "name": "stdout",
     "output_type": "stream",
     "text": [
      "177  ads with at least two bookings\n"
     ]
    }
   ],
   "source": [
    "tf.show_number_of_ads_with_at_least_two_bookings(data)"
   ]
  },
  {
   "cell_type": "markdown",
   "metadata": {},
   "source": [
    "#### Number of Ads that had at least one booking sorted by Country"
   ]
  },
  {
   "cell_type": "code",
   "execution_count": 8,
   "metadata": {},
   "outputs": [
    {
     "name": "stdout",
     "output_type": "stream",
     "text": [
      "AU    904\n",
      "BR    747\n",
      "CA    180\n",
      "UK    166\n",
      "DE    141\n",
      "Name: market_code, dtype: int64\n"
     ]
    }
   ],
   "source": [
    "tf.show_ads_with_at_least_one_booking_by_country(data)"
   ]
  },
  {
   "cell_type": "markdown",
   "metadata": {},
   "source": [
    "#### Number of Ads that had at least one booking sorted by Country as percentage of total greater than one booking"
   ]
  },
  {
   "cell_type": "code",
   "execution_count": 9,
   "metadata": {},
   "outputs": [
    {
     "name": "stdout",
     "output_type": "stream",
     "text": [
      "AU    0.422825\n",
      "BR    0.349392\n",
      "CA    0.084191\n",
      "UK    0.077643\n",
      "DE    0.065949\n",
      "Name: market_code, dtype: float64\n"
     ]
    },
    {
     "data": {
      "image/png": "[encoded data removed]",
      "text/plain": [
       "<Figure size 432x288 with 1 Axes>"
      ]
     },
     "metadata": {
      "needs_background": "light"
     },
     "output_type": "display_data"
    }
   ],
   "source": [
    "tf.show_distribution_ads_by_country(data)"
   ]
  },
  {
   "cell_type": "markdown",
   "metadata": {},
   "source": [
    "#### Number of ads that had at least one booking sorted by type of device"
   ]
  },
  {
   "cell_type": "code",
   "execution_count": 10,
   "metadata": {},
   "outputs": [
    {
     "name": "stdout",
     "output_type": "stream",
     "text": [
      "desktop    1150\n",
      "phone       916\n",
      "tablet       72\n",
      "Name: pub_device, dtype: int64\n"
     ]
    }
   ],
   "source": [
    "tf.show_ads_by_device(data)"
   ]
  },
  {
   "cell_type": "markdown",
   "metadata": {},
   "source": [
    "#### Number of ads that had at least one booking sorted by number of matching keywords"
   ]
  },
  {
   "cell_type": "code",
   "execution_count": 11,
   "metadata": {},
   "outputs": [
    {
     "name": "stdout",
     "output_type": "stream",
     "text": [
      "2    1198\n",
      "0     719\n",
      "1     221\n",
      "Name: match_type, dtype: int64\n"
     ]
    }
   ],
   "source": [
    "tf.show_ads_by_matching_keywords(data)"
   ]
  },
  {
   "cell_type": "markdown",
   "metadata": {},
   "source": [
    "#### Average time Users engage with Trivago website"
   ]
  },
  {
   "cell_type": "code",
   "execution_count": 12,
   "metadata": {},
   "outputs": [
    {
     "data": {
      "image/png": "[encoded data removed]",
      "text/plain": [
       "<Figure size 432x288 with 1 Axes>"
      ]
     },
     "metadata": {
      "needs_background": "light"
     },
     "output_type": "display_data"
    }
   ],
   "source": [
    "tf.show_user_engagement_histogram(data)"
   ]
  },
  {
   "cell_type": "markdown",
   "metadata": {},
   "source": [
    "#### Trivago Revenue per Ad"
   ]
  },
  {
   "cell_type": "code",
   "execution_count": 13,
   "metadata": {},
   "outputs": [
    {
     "data": {
      "image/png": "[encoded data removed]",
      "text/plain": [
       "<Figure size 432x288 with 1 Axes>"
      ]
     },
     "metadata": {
      "needs_background": "light"
     },
     "output_type": "display_data"
    }
   ],
   "source": [
    "tf.show_revenue_per_ad_histogram_low_range(data)"
   ]
  },
  {
   "cell_type": "code",
   "execution_count": 14,
   "metadata": {},
   "outputs": [
    {
     "data": {
      "image/png": "[encoded data removed]",
      "text/plain": [
       "<Figure size 432x288 with 1 Axes>"
      ]
     },
     "metadata": {
      "needs_background": "light"
     },
     "output_type": "display_data"
    }
   ],
   "source": [
    "tf.show_revenue_per_ad_histogram_high_range(data)"
   ]
  },
  {
   "cell_type": "code",
   "execution_count": 15,
   "metadata": {},
   "outputs": [
    {
     "data": {
      "image/png": "[encoded data removed]",
      "text/plain": [
       "<Figure size 432x288 with 1 Axes>"
      ]
     },
     "metadata": {
      "needs_background": "light"
     },
     "output_type": "display_data"
    }
   ],
   "source": [
    "tf.show_number_of_ads_per_country_histogram(data)"
   ]
  },
  {
   "cell_type": "code",
   "execution_count": 16,
   "metadata": {},
   "outputs": [
    {
     "data": {
      "image/png": "[encoded data removed]",
      "text/plain": [
       "<Figure size 432x288 with 1 Axes>"
      ]
     },
     "metadata": {
      "needs_background": "light"
     },
     "output_type": "display_data"
    }
   ],
   "source": [
    "tf.show_number_of_ads_per_device_histogram(data)"
   ]
  },
  {
   "cell_type": "code",
   "execution_count": 17,
   "metadata": {
    "scrolled": true
   },
   "outputs": [
    {
     "name": "stdout",
     "output_type": "stream",
     "text": [
      "ItemHotel                 205552\n",
      "Hotel                     181983\n",
      "CityOnly                   93916\n",
      "Accommodation              54775\n",
      "Holidayflat                47469\n",
      "                           ...  \n",
      "RegionHotelsLastMinute         6\n",
      "HTHotelsGoodValue              3\n",
      "HTHotelsPeriodDec              1\n",
      "HTHotelsBudget                 1\n",
      "CountryHotelsOffer             1\n",
      "Name: theme_name_english, Length: 408, dtype: int64\n"
     ]
    }
   ],
   "source": [
    "tf.show_theme_name_english(data)"
   ]
  },
  {
   "cell_type": "code",
   "execution_count": 18,
   "metadata": {},
   "outputs": [
    {
     "name": "stdout",
     "output_type": "stream",
     "text": [
      "City           768430\n",
      "Item           205552\n",
      "CityOnly        93916\n",
      "Region          91949\n",
      "Poi             46969\n",
      "Country         30862\n",
      "RegionOnly      12047\n",
      "HT              10688\n",
      "PoiOnly          7663\n",
      "CountryOnly      7109\n",
      "Name: replacement_type_name, dtype: int64\n"
     ]
    },
    {
     "data": {
      "image/png": "[encoded data removed]",
      "text/plain": [
       "<Figure size 432x288 with 1 Axes>"
      ]
     },
     "metadata": {
      "needs_background": "light"
     },
     "output_type": "display_data"
    }
   ],
   "source": [
    "tf.show_replacement_type_name(data)"
   ]
  },
  {
   "cell_type": "markdown",
   "metadata": {},
   "source": [
    "### Counting number of bookings by day of the week"
   ]
  },
  {
   "cell_type": "code",
   "execution_count": 19,
   "metadata": {},
   "outputs": [
    {
     "data": {
      "image/png": "[encoded data removed]",
      "text/plain": [
       "<Figure size 432x288 with 2 Axes>"
      ]
     },
     "metadata": {
      "needs_background": "light"
     },
     "output_type": "display_data"
    }
   ],
   "source": [
    "data_with_weekdays = tf.sort_ads_by_day_of_the_week(data)"
   ]
  },
  {
   "cell_type": "markdown",
   "metadata": {},
   "source": [
    "#### Friday, Saturday, and Sunday tend to have more ads with at least one booking"
   ]
  },
  {
   "cell_type": "markdown",
   "metadata": {},
   "source": [
    "## Hypothesis testing to see if Friday has on average more bookings than Thursday"
   ]
  },
  {
   "attachments": {
    "image.png": {
     "image/png": "[encoded data removed]"
    }
   },
   "cell_type": "markdown",
   "metadata": {},
   "source": [
    "### Null Hypothesis: \n",
    "$ h_0: \\mu_{fridays} \\leq \\mu_{thursdays}$\n",
    "vs\n",
    "$ h_1: \\mu_{fridays} > \\mu_{thursdays}$\n",
    "\n",
    "### Test:\n",
    "reject null hypothesis if \n",
    "![image.png](attachment:image.png)"
   ]
  },
  {
   "cell_type": "markdown",
   "metadata": {},
   "source": [
    "$ t_{179932;0.975} = 1.644862 $"
   ]
  },
  {
   "cell_type": "code",
   "execution_count": 20,
   "metadata": {},
   "outputs": [
    {
     "name": "stdout",
     "output_type": "stream",
     "text": [
      "test value =  75.72731822928488\n"
     ]
    }
   ],
   "source": [
    "tf.hypothesis_testing(data_with_weekdays)"
   ]
  },
  {
   "cell_type": "markdown",
   "metadata": {},
   "source": [
    "#### test value is greater than t-score, so null hypothesis is rejected: ads placed on friday have on average more bookings than ads placed on thursday"
   ]
  },
  {
   "cell_type": "markdown",
   "metadata": {},
   "source": [
    "# Best Performing Market\n",
    "#### performance can be measured by revenue per click\n",
    "#### revenue per click is \"how much revenue is earned every time someone clicks  on an ad\"\n",
    "#### source: https://www.monetizemore.com/blog/what-is-the-best-metric-to-measure-ad-performance/#:~:text=There%20are%20four%20main%20ways,CTR%2C%20RPM%2C%20and%20RPC.&text=CPM%20refers%20to%20the%20cost,advertising%20cost%20per%20thousand%20views.&text=CTR%20refers%20to%20Click%2Dthrough,is%20for%20a%20given%20website."
   ]
  },
  {
   "cell_type": "markdown",
   "metadata": {},
   "source": [
    "#### average revenue per click per ad by country and global"
   ]
  },
  {
   "cell_type": "code",
   "execution_count": 21,
   "metadata": {},
   "outputs": [
    {
     "data": {
      "image/png": "[encoded data removed]",
      "text/plain": [
       "<Figure size 432x288 with 1 Axes>"
      ]
     },
     "metadata": {
      "needs_background": "light"
     },
     "output_type": "display_data"
    }
   ],
   "source": [
    "tf.show_rpc_per_ad_by_country(data)"
   ]
  },
  {
   "cell_type": "markdown",
   "metadata": {},
   "source": [
    "#### Australia seems to be the best performing market"
   ]
  },
  {
   "cell_type": "markdown",
   "metadata": {},
   "source": [
    "# What should be the average price to pay for conversion if we want to achieve 125% ROAS globally?"
   ]
  },
  {
   "attachments": {
    "image.png": {
     "image/png": "[encoded data removed]"
    }
   },
   "cell_type": "markdown",
   "metadata": {},
   "source": [
    "![image.png](attachment:image.png)"
   ]
  },
  {
   "attachments": {
    "image.png": {
     "image/png": "[encoded data removed]"
    }
   },
   "cell_type": "markdown",
   "metadata": {},
   "source": [
    "![image.png](attachment:image.png)\n"
   ]
  },
  {
   "attachments": {
    "image.png": {
     "image/png": "[encoded data removed]"
    }
   },
   "cell_type": "markdown",
   "metadata": {},
   "source": [
    "![image.png](attachment:image.png)"
   ]
  },
  {
   "attachments": {
    "image.png": {
     "image/png": "[encoded data removed]"
    }
   },
   "cell_type": "markdown",
   "metadata": {},
   "source": [
    "![image.png](attachment:image.png)"
   ]
  },
  {
   "attachments": {
    "image.png": {
     "image/png": "[encoded data removed]"
    }
   },
   "cell_type": "markdown",
   "metadata": {},
   "source": [
    "![image.png](attachment:image.png)"
   ]
  },
  {
   "cell_type": "code",
   "execution_count": 22,
   "metadata": {},
   "outputs": [
    {
     "name": "stdout",
     "output_type": "stream",
     "text": [
      "conversion_cost =  -38.84941763131716\n"
     ]
    }
   ],
   "source": [
    "tf.calculate_conversion_cost(data)"
   ]
  },
  {
   "cell_type": "code",
   "execution_count": 23,
   "metadata": {},
   "outputs": [
    {
     "name": "stdout",
     "output_type": "stream",
     "text": [
      "average clickout revenue:  6.279304571493548\n",
      "average cost:  8.939666009245718\n"
     ]
    }
   ],
   "source": [
    "tf.calculate_cost_and_clickout(data)"
   ]
  },
  {
   "cell_type": "markdown",
   "metadata": {},
   "source": [
    "#### average cost is higher than average clickout revenue which means money is lost with ads"
   ]
  },
  {
   "cell_type": "markdown",
   "metadata": {},
   "source": [
    "# Training a model that predicts optimal keyword bid"
   ]
  },
  {
   "cell_type": "code",
   "execution_count": 25,
   "metadata": {
    "scrolled": true
   },
   "outputs": [
    {
     "name": "stdout",
     "output_type": "stream",
     "text": [
      "Learning rate set to 0.110277\n",
      "0:\tlearn: 12.5960139\ttotal: 223ms\tremaining: 3m 43s\n",
      "1:\tlearn: 12.5948297\ttotal: 277ms\tremaining: 2m 18s\n",
      "2:\tlearn: 12.5934537\ttotal: 330ms\tremaining: 1m 49s\n",
      "3:\tlearn: 12.5922372\ttotal: 371ms\tremaining: 1m 32s\n",
      "4:\tlearn: 12.5915096\ttotal: 419ms\tremaining: 1m 23s\n",
      "5:\tlearn: 12.5903621\ttotal: 476ms\tremaining: 1m 18s\n",
      "6:\tlearn: 12.5890680\ttotal: 528ms\tremaining: 1m 14s\n",
      "7:\tlearn: 12.5878978\ttotal: 582ms\tremaining: 1m 12s\n",
      "8:\tlearn: 12.5844528\ttotal: 633ms\tremaining: 1m 9s\n",
      "9:\tlearn: 12.5834217\ttotal: 694ms\tremaining: 1m 8s\n",
      "10:\tlearn: 12.5824674\ttotal: 749ms\tremaining: 1m 7s\n",
      "11:\tlearn: 12.5813797\ttotal: 793ms\tremaining: 1m 5s\n",
      "12:\tlearn: 12.5811734\ttotal: 843ms\tremaining: 1m 3s\n",
      "13:\tlearn: 12.5803203\ttotal: 891ms\tremaining: 1m 2s\n",
      "14:\tlearn: 12.5745829\ttotal: 943ms\tremaining: 1m 1s\n",
      "15:\tlearn: 12.5707305\ttotal: 1s\tremaining: 1m 1s\n",
      "16:\tlearn: 12.5698952\ttotal: 1.05s\tremaining: 1m\n",
      "17:\tlearn: 12.5683137\ttotal: 1.1s\tremaining: 59.8s\n",
      "18:\tlearn: 12.5672254\ttotal: 1.15s\tremaining: 59.3s\n",
      "19:\tlearn: 12.5670177\ttotal: 1.21s\tremaining: 59.3s\n",
      "20:\tlearn: 12.5659831\ttotal: 1.25s\tremaining: 58.5s\n",
      "21:\tlearn: 12.5650585\ttotal: 1.31s\tremaining: 58.1s\n",
      "22:\tlearn: 12.5643260\ttotal: 1.35s\tremaining: 57.5s\n",
      "23:\tlearn: 12.5627515\ttotal: 1.4s\tremaining: 56.9s\n",
      "24:\tlearn: 12.5620831\ttotal: 1.46s\tremaining: 56.8s\n",
      "25:\tlearn: 12.5602920\ttotal: 1.5s\tremaining: 56.4s\n",
      "26:\tlearn: 12.5579254\ttotal: 1.56s\tremaining: 56.1s\n",
      "27:\tlearn: 12.5552990\ttotal: 1.61s\tremaining: 55.8s\n",
      "28:\tlearn: 12.5484937\ttotal: 1.66s\tremaining: 55.6s\n",
      "29:\tlearn: 12.5482184\ttotal: 1.72s\tremaining: 55.5s\n",
      "30:\tlearn: 12.5475076\ttotal: 1.77s\tremaining: 55.2s\n",
      "31:\tlearn: 12.5466998\ttotal: 1.81s\tremaining: 54.8s\n",
      "32:\tlearn: 12.5456672\ttotal: 1.86s\tremaining: 54.4s\n",
      "33:\tlearn: 12.5455288\ttotal: 1.9s\tremaining: 54.1s\n",
      "34:\tlearn: 12.5444345\ttotal: 1.96s\tremaining: 53.9s\n",
      "35:\tlearn: 12.5438612\ttotal: 2s\tremaining: 53.6s\n",
      "36:\tlearn: 12.5436430\ttotal: 2.04s\tremaining: 53.2s\n",
      "37:\tlearn: 12.5418963\ttotal: 2.1s\tremaining: 53.3s\n",
      "38:\tlearn: 12.5405425\ttotal: 2.15s\tremaining: 53.1s\n",
      "39:\tlearn: 12.5400251\ttotal: 2.2s\tremaining: 52.9s\n",
      "40:\tlearn: 12.5392824\ttotal: 2.25s\tremaining: 52.8s\n",
      "41:\tlearn: 12.5387827\ttotal: 2.31s\tremaining: 52.8s\n",
      "42:\tlearn: 12.5383559\ttotal: 2.36s\tremaining: 52.6s\n",
      "43:\tlearn: 12.5332056\ttotal: 2.41s\tremaining: 52.4s\n",
      "44:\tlearn: 12.5292802\ttotal: 2.46s\tremaining: 52.3s\n",
      "45:\tlearn: 12.5291272\ttotal: 2.5s\tremaining: 51.9s\n",
      "46:\tlearn: 12.5238712\ttotal: 2.56s\tremaining: 51.9s\n",
      "47:\tlearn: 12.5218750\ttotal: 2.61s\tremaining: 51.8s\n",
      "48:\tlearn: 12.5215595\ttotal: 2.65s\tremaining: 51.5s\n",
      "49:\tlearn: 12.5195630\ttotal: 2.71s\tremaining: 51.5s\n",
      "50:\tlearn: 12.5154579\ttotal: 2.76s\tremaining: 51.4s\n",
      "51:\tlearn: 12.5152625\ttotal: 2.81s\tremaining: 51.2s\n",
      "52:\tlearn: 12.5147814\ttotal: 2.86s\tremaining: 51.1s\n",
      "53:\tlearn: 12.5130041\ttotal: 2.91s\tremaining: 51s\n",
      "54:\tlearn: 12.5121219\ttotal: 2.97s\tremaining: 51s\n",
      "55:\tlearn: 12.5091320\ttotal: 3.02s\tremaining: 50.9s\n",
      "56:\tlearn: 12.5089151\ttotal: 3.07s\tremaining: 50.8s\n",
      "57:\tlearn: 12.5088069\ttotal: 3.12s\tremaining: 50.6s\n",
      "58:\tlearn: 12.5063090\ttotal: 3.18s\tremaining: 50.7s\n",
      "59:\tlearn: 12.5005326\ttotal: 3.23s\tremaining: 50.6s\n",
      "60:\tlearn: 12.5001417\ttotal: 3.28s\tremaining: 50.5s\n",
      "61:\tlearn: 12.4996459\ttotal: 3.33s\tremaining: 50.3s\n",
      "62:\tlearn: 12.4988139\ttotal: 3.38s\tremaining: 50.2s\n",
      "63:\tlearn: 12.4984793\ttotal: 3.42s\tremaining: 50.1s\n",
      "64:\tlearn: 12.4978524\ttotal: 3.47s\tremaining: 49.9s\n",
      "65:\tlearn: 12.4976368\ttotal: 3.51s\tremaining: 49.7s\n",
      "66:\tlearn: 12.4929387\ttotal: 3.58s\tremaining: 49.9s\n",
      "67:\tlearn: 12.4923002\ttotal: 3.63s\tremaining: 49.7s\n",
      "68:\tlearn: 12.4904798\ttotal: 3.69s\tremaining: 49.8s\n",
      "69:\tlearn: 12.4900396\ttotal: 3.74s\tremaining: 49.7s\n",
      "70:\tlearn: 12.4894171\ttotal: 3.78s\tremaining: 49.5s\n",
      "71:\tlearn: 12.4887823\ttotal: 3.84s\tremaining: 49.5s\n",
      "72:\tlearn: 12.4834702\ttotal: 3.89s\tremaining: 49.4s\n",
      "73:\tlearn: 12.4826210\ttotal: 3.94s\tremaining: 49.3s\n",
      "74:\tlearn: 12.4810608\ttotal: 4s\tremaining: 49.4s\n",
      "75:\tlearn: 12.4805493\ttotal: 4.05s\tremaining: 49.3s\n",
      "76:\tlearn: 12.4804567\ttotal: 4.1s\tremaining: 49.2s\n",
      "77:\tlearn: 12.4802964\ttotal: 4.16s\tremaining: 49.1s\n",
      "78:\tlearn: 12.4792529\ttotal: 4.21s\tremaining: 49.1s\n",
      "79:\tlearn: 12.4790865\ttotal: 4.26s\tremaining: 49s\n",
      "80:\tlearn: 12.4767897\ttotal: 4.33s\tremaining: 49.2s\n",
      "81:\tlearn: 12.4753994\ttotal: 4.41s\tremaining: 49.3s\n",
      "82:\tlearn: 12.4748006\ttotal: 4.47s\tremaining: 49.4s\n",
      "83:\tlearn: 12.4730274\ttotal: 4.56s\tremaining: 49.7s\n",
      "84:\tlearn: 12.4728625\ttotal: 4.62s\tremaining: 49.8s\n",
      "85:\tlearn: 12.4723686\ttotal: 4.69s\tremaining: 49.9s\n",
      "86:\tlearn: 12.4712440\ttotal: 4.75s\tremaining: 49.9s\n",
      "87:\tlearn: 12.4711749\ttotal: 4.8s\tremaining: 49.8s\n",
      "88:\tlearn: 12.4710931\ttotal: 4.86s\tremaining: 49.7s\n",
      "89:\tlearn: 12.4701950\ttotal: 4.92s\tremaining: 49.8s\n",
      "90:\tlearn: 12.4695532\ttotal: 4.99s\tremaining: 49.8s\n",
      "91:\tlearn: 12.4690509\ttotal: 5.06s\tremaining: 49.9s\n",
      "92:\tlearn: 12.4669268\ttotal: 5.12s\tremaining: 49.9s\n",
      "93:\tlearn: 12.4651562\ttotal: 5.19s\tremaining: 50s\n",
      "94:\tlearn: 12.4651429\ttotal: 5.24s\tremaining: 50s\n",
      "95:\tlearn: 12.4650613\ttotal: 5.36s\tremaining: 50.4s\n",
      "96:\tlearn: 12.4649214\ttotal: 5.42s\tremaining: 50.5s\n",
      "97:\tlearn: 12.4637803\ttotal: 5.51s\tremaining: 50.7s\n",
      "98:\tlearn: 12.4632927\ttotal: 5.58s\tremaining: 50.8s\n",
      "99:\tlearn: 12.4580351\ttotal: 5.65s\tremaining: 50.9s\n",
      "100:\tlearn: 12.4573577\ttotal: 5.72s\tremaining: 50.9s\n",
      "101:\tlearn: 12.4564262\ttotal: 5.78s\tremaining: 50.9s\n",
      "102:\tlearn: 12.4557827\ttotal: 5.84s\tremaining: 50.9s\n",
      "103:\tlearn: 12.4553653\ttotal: 5.89s\tremaining: 50.8s\n",
      "104:\tlearn: 12.4550230\ttotal: 5.96s\tremaining: 50.8s\n",
      "105:\tlearn: 12.4547257\ttotal: 6.03s\tremaining: 50.9s\n",
      "106:\tlearn: 12.4544668\ttotal: 6.11s\tremaining: 51s\n",
      "107:\tlearn: 12.4542182\ttotal: 6.18s\tremaining: 51.1s\n",
      "108:\tlearn: 12.4536485\ttotal: 6.25s\tremaining: 51.1s\n",
      "109:\tlearn: 12.4534775\ttotal: 6.33s\tremaining: 51.2s\n",
      "110:\tlearn: 12.4531860\ttotal: 6.38s\tremaining: 51.1s\n",
      "111:\tlearn: 12.4531195\ttotal: 6.43s\tremaining: 51s\n",
      "112:\tlearn: 12.4524633\ttotal: 6.49s\tremaining: 51s\n",
      "113:\tlearn: 12.4521552\ttotal: 6.54s\tremaining: 50.9s\n",
      "114:\tlearn: 12.4469743\ttotal: 6.6s\tremaining: 50.8s\n",
      "115:\tlearn: 12.4420015\ttotal: 6.66s\tremaining: 50.7s\n",
      "116:\tlearn: 12.4397902\ttotal: 6.71s\tremaining: 50.7s\n",
      "117:\tlearn: 12.4386055\ttotal: 6.77s\tremaining: 50.6s\n",
      "118:\tlearn: 12.4379547\ttotal: 6.83s\tremaining: 50.6s\n",
      "119:\tlearn: 12.4376376\ttotal: 6.92s\tremaining: 50.7s\n",
      "120:\tlearn: 12.4373025\ttotal: 7.02s\tremaining: 51s\n",
      "121:\tlearn: 12.4358404\ttotal: 7.12s\tremaining: 51.3s\n",
      "122:\tlearn: 12.4339354\ttotal: 7.23s\tremaining: 51.5s\n",
      "123:\tlearn: 12.4338135\ttotal: 7.3s\tremaining: 51.6s\n",
      "124:\tlearn: 12.4318015\ttotal: 7.41s\tremaining: 51.8s\n",
      "125:\tlearn: 12.4315060\ttotal: 7.47s\tremaining: 51.8s\n",
      "126:\tlearn: 12.4312857\ttotal: 7.54s\tremaining: 51.9s\n",
      "127:\tlearn: 12.4309228\ttotal: 7.61s\tremaining: 51.8s\n",
      "128:\tlearn: 12.4292746\ttotal: 7.7s\tremaining: 52s\n",
      "129:\tlearn: 12.4286840\ttotal: 7.77s\tremaining: 52s\n",
      "130:\tlearn: 12.4250145\ttotal: 7.83s\tremaining: 52s\n",
      "131:\tlearn: 12.4247487\ttotal: 7.9s\tremaining: 51.9s\n",
      "132:\tlearn: 12.4242292\ttotal: 7.96s\tremaining: 51.9s\n",
      "133:\tlearn: 12.4240807\ttotal: 8s\tremaining: 51.7s\n",
      "134:\tlearn: 12.4193800\ttotal: 8.06s\tremaining: 51.6s\n",
      "135:\tlearn: 12.4189558\ttotal: 8.11s\tremaining: 51.5s\n",
      "136:\tlearn: 12.4176133\ttotal: 8.18s\tremaining: 51.5s\n",
      "137:\tlearn: 12.4171632\ttotal: 8.25s\tremaining: 51.5s\n",
      "138:\tlearn: 12.4155264\ttotal: 8.32s\tremaining: 51.6s\n",
      "139:\tlearn: 12.4153212\ttotal: 8.41s\tremaining: 51.7s\n",
      "140:\tlearn: 12.4151572\ttotal: 8.49s\tremaining: 51.8s\n",
      "141:\tlearn: 12.4135020\ttotal: 8.59s\tremaining: 51.9s\n",
      "142:\tlearn: 12.4131077\ttotal: 8.66s\tremaining: 51.9s\n",
      "143:\tlearn: 12.4114540\ttotal: 8.75s\tremaining: 52s\n",
      "144:\tlearn: 12.4067950\ttotal: 8.84s\tremaining: 52.1s\n",
      "145:\tlearn: 12.4057371\ttotal: 8.95s\tremaining: 52.4s\n",
      "146:\tlearn: 12.4056391\ttotal: 9.05s\tremaining: 52.5s\n",
      "147:\tlearn: 12.4045475\ttotal: 9.14s\tremaining: 52.6s\n",
      "148:\tlearn: 12.4039977\ttotal: 9.19s\tremaining: 52.5s\n",
      "149:\tlearn: 12.4033673\ttotal: 9.24s\tremaining: 52.4s\n",
      "150:\tlearn: 12.4024127\ttotal: 9.31s\tremaining: 52.3s\n",
      "151:\tlearn: 12.4010984\ttotal: 9.37s\tremaining: 52.3s\n",
      "152:\tlearn: 12.4005826\ttotal: 9.43s\tremaining: 52.2s\n",
      "153:\tlearn: 12.3990172\ttotal: 9.47s\tremaining: 52.1s\n",
      "154:\tlearn: 12.3980714\ttotal: 9.53s\tremaining: 51.9s\n",
      "155:\tlearn: 12.3975436\ttotal: 9.58s\tremaining: 51.8s\n",
      "156:\tlearn: 12.3970459\ttotal: 9.64s\tremaining: 51.8s\n",
      "157:\tlearn: 12.3968070\ttotal: 9.7s\tremaining: 51.7s\n",
      "158:\tlearn: 12.3949978\ttotal: 9.79s\tremaining: 51.8s\n",
      "159:\tlearn: 12.3936819\ttotal: 9.85s\tremaining: 51.7s\n"
     ]
    },
    {
     "name": "stdout",
     "output_type": "stream",
     "text": [
      "160:\tlearn: 12.3932394\ttotal: 9.9s\tremaining: 51.6s\n",
      "161:\tlearn: 12.3930753\ttotal: 9.98s\tremaining: 51.6s\n",
      "162:\tlearn: 12.3926749\ttotal: 10s\tremaining: 51.6s\n",
      "163:\tlearn: 12.3925904\ttotal: 10.1s\tremaining: 51.5s\n",
      "164:\tlearn: 12.3921783\ttotal: 10.2s\tremaining: 51.4s\n",
      "165:\tlearn: 12.3885151\ttotal: 10.2s\tremaining: 51.5s\n",
      "166:\tlearn: 12.3882349\ttotal: 10.4s\tremaining: 51.7s\n",
      "167:\tlearn: 12.3881548\ttotal: 10.4s\tremaining: 51.5s\n",
      "168:\tlearn: 12.3865482\ttotal: 10.5s\tremaining: 51.4s\n",
      "169:\tlearn: 12.3861947\ttotal: 10.5s\tremaining: 51.3s\n",
      "170:\tlearn: 12.3856850\ttotal: 10.6s\tremaining: 51.4s\n",
      "171:\tlearn: 12.3855141\ttotal: 10.7s\tremaining: 51.4s\n",
      "172:\tlearn: 12.3854106\ttotal: 10.7s\tremaining: 51.2s\n",
      "173:\tlearn: 12.3852651\ttotal: 10.8s\tremaining: 51.2s\n",
      "174:\tlearn: 12.3852047\ttotal: 10.8s\tremaining: 51s\n",
      "175:\tlearn: 12.3832151\ttotal: 10.9s\tremaining: 50.9s\n",
      "176:\tlearn: 12.3824090\ttotal: 10.9s\tremaining: 50.8s\n",
      "177:\tlearn: 12.3820725\ttotal: 11s\tremaining: 50.7s\n",
      "178:\tlearn: 12.3803052\ttotal: 11.1s\tremaining: 50.7s\n",
      "179:\tlearn: 12.3784529\ttotal: 11.1s\tremaining: 50.7s\n",
      "180:\tlearn: 12.3752616\ttotal: 11.2s\tremaining: 50.6s\n",
      "181:\tlearn: 12.3751818\ttotal: 11.2s\tremaining: 50.5s\n",
      "182:\tlearn: 12.3751273\ttotal: 11.3s\tremaining: 50.4s\n",
      "183:\tlearn: 12.3737018\ttotal: 11.3s\tremaining: 50.3s\n",
      "184:\tlearn: 12.3719850\ttotal: 11.4s\tremaining: 50.2s\n",
      "185:\tlearn: 12.3711427\ttotal: 11.4s\tremaining: 50.1s\n",
      "186:\tlearn: 12.3670465\ttotal: 11.5s\tremaining: 50s\n",
      "187:\tlearn: 12.3654632\ttotal: 11.5s\tremaining: 49.9s\n",
      "188:\tlearn: 12.3651636\ttotal: 11.6s\tremaining: 49.8s\n",
      "189:\tlearn: 12.3600352\ttotal: 11.7s\tremaining: 49.8s\n",
      "190:\tlearn: 12.3595132\ttotal: 11.7s\tremaining: 49.7s\n",
      "191:\tlearn: 12.3591891\ttotal: 11.8s\tremaining: 49.7s\n",
      "192:\tlearn: 12.3582114\ttotal: 11.9s\tremaining: 49.6s\n",
      "193:\tlearn: 12.3563206\ttotal: 11.9s\tremaining: 49.5s\n",
      "194:\tlearn: 12.3562298\ttotal: 12s\tremaining: 49.4s\n",
      "195:\tlearn: 12.3557277\ttotal: 12s\tremaining: 49.4s\n",
      "196:\tlearn: 12.3525384\ttotal: 12.1s\tremaining: 49.3s\n",
      "197:\tlearn: 12.3513563\ttotal: 12.1s\tremaining: 49.2s\n",
      "198:\tlearn: 12.3495389\ttotal: 12.2s\tremaining: 49.1s\n",
      "199:\tlearn: 12.3489440\ttotal: 12.3s\tremaining: 49s\n",
      "200:\tlearn: 12.3451688\ttotal: 12.3s\tremaining: 49s\n",
      "201:\tlearn: 12.3448108\ttotal: 12.4s\tremaining: 48.9s\n",
      "202:\tlearn: 12.3438539\ttotal: 12.4s\tremaining: 48.8s\n",
      "203:\tlearn: 12.3425989\ttotal: 12.5s\tremaining: 48.8s\n",
      "204:\tlearn: 12.3378444\ttotal: 12.6s\tremaining: 48.7s\n",
      "205:\tlearn: 12.3374542\ttotal: 12.6s\tremaining: 48.6s\n",
      "206:\tlearn: 12.3327999\ttotal: 12.7s\tremaining: 48.6s\n",
      "207:\tlearn: 12.3310917\ttotal: 12.8s\tremaining: 48.6s\n",
      "208:\tlearn: 12.3308421\ttotal: 12.8s\tremaining: 48.5s\n",
      "209:\tlearn: 12.3304970\ttotal: 12.9s\tremaining: 48.5s\n",
      "210:\tlearn: 12.3303944\ttotal: 12.9s\tremaining: 48.4s\n",
      "211:\tlearn: 12.3301018\ttotal: 13s\tremaining: 48.4s\n",
      "212:\tlearn: 12.3285929\ttotal: 13.1s\tremaining: 48.4s\n",
      "213:\tlearn: 12.3268259\ttotal: 13.2s\tremaining: 48.3s\n",
      "214:\tlearn: 12.3264634\ttotal: 13.2s\tremaining: 48.3s\n",
      "215:\tlearn: 12.3242416\ttotal: 13.3s\tremaining: 48.3s\n",
      "216:\tlearn: 12.3236711\ttotal: 13.4s\tremaining: 48.3s\n",
      "217:\tlearn: 12.3233550\ttotal: 13.4s\tremaining: 48.2s\n",
      "218:\tlearn: 12.3229509\ttotal: 13.5s\tremaining: 48.2s\n",
      "219:\tlearn: 12.3227031\ttotal: 13.6s\tremaining: 48.1s\n",
      "220:\tlearn: 12.3224144\ttotal: 13.6s\tremaining: 48s\n",
      "221:\tlearn: 12.3218283\ttotal: 13.7s\tremaining: 47.9s\n",
      "222:\tlearn: 12.3213895\ttotal: 13.7s\tremaining: 47.8s\n",
      "223:\tlearn: 12.3196580\ttotal: 13.8s\tremaining: 47.7s\n",
      "224:\tlearn: 12.3196133\ttotal: 13.8s\tremaining: 47.6s\n",
      "225:\tlearn: 12.3193333\ttotal: 13.9s\tremaining: 47.5s\n",
      "226:\tlearn: 12.3184951\ttotal: 13.9s\tremaining: 47.4s\n",
      "227:\tlearn: 12.3184401\ttotal: 14s\tremaining: 47.3s\n",
      "228:\tlearn: 12.3170303\ttotal: 14s\tremaining: 47.3s\n",
      "229:\tlearn: 12.3168518\ttotal: 14.1s\tremaining: 47.2s\n",
      "230:\tlearn: 12.3155759\ttotal: 14.2s\tremaining: 47.1s\n",
      "231:\tlearn: 12.3152351\ttotal: 14.2s\tremaining: 47s\n",
      "232:\tlearn: 12.3150275\ttotal: 14.2s\tremaining: 46.9s\n",
      "233:\tlearn: 12.3140289\ttotal: 14.3s\tremaining: 46.8s\n",
      "234:\tlearn: 12.3136905\ttotal: 14.4s\tremaining: 46.7s\n",
      "235:\tlearn: 12.3136310\ttotal: 14.4s\tremaining: 46.6s\n",
      "236:\tlearn: 12.3107286\ttotal: 14.5s\tremaining: 46.5s\n",
      "237:\tlearn: 12.3102535\ttotal: 14.5s\tremaining: 46.4s\n",
      "238:\tlearn: 12.3094785\ttotal: 14.6s\tremaining: 46.3s\n",
      "239:\tlearn: 12.3092516\ttotal: 14.6s\tremaining: 46.2s\n",
      "240:\tlearn: 12.3092171\ttotal: 14.6s\tremaining: 46.1s\n",
      "241:\tlearn: 12.3080391\ttotal: 14.7s\tremaining: 46s\n",
      "242:\tlearn: 12.3073767\ttotal: 14.7s\tremaining: 45.9s\n",
      "243:\tlearn: 12.3060984\ttotal: 14.8s\tremaining: 45.8s\n",
      "244:\tlearn: 12.3049566\ttotal: 14.9s\tremaining: 45.8s\n",
      "245:\tlearn: 12.3036018\ttotal: 14.9s\tremaining: 45.7s\n",
      "246:\tlearn: 12.3026409\ttotal: 15s\tremaining: 45.6s\n",
      "247:\tlearn: 12.3001633\ttotal: 15s\tremaining: 45.5s\n",
      "248:\tlearn: 12.2994281\ttotal: 15.1s\tremaining: 45.5s\n",
      "249:\tlearn: 12.2981805\ttotal: 15.1s\tremaining: 45.4s\n",
      "250:\tlearn: 12.2979728\ttotal: 15.2s\tremaining: 45.3s\n",
      "251:\tlearn: 12.2975875\ttotal: 15.2s\tremaining: 45.2s\n",
      "252:\tlearn: 12.2972631\ttotal: 15.3s\tremaining: 45.1s\n",
      "253:\tlearn: 12.2968808\ttotal: 15.3s\tremaining: 45.1s\n",
      "254:\tlearn: 12.2965211\ttotal: 15.4s\tremaining: 45s\n",
      "255:\tlearn: 12.2954424\ttotal: 15.4s\tremaining: 44.9s\n",
      "256:\tlearn: 12.2945974\ttotal: 15.5s\tremaining: 44.8s\n",
      "257:\tlearn: 12.2934390\ttotal: 15.6s\tremaining: 44.8s\n",
      "258:\tlearn: 12.2911151\ttotal: 15.6s\tremaining: 44.7s\n",
      "259:\tlearn: 12.2900078\ttotal: 15.7s\tremaining: 44.6s\n",
      "260:\tlearn: 12.2892636\ttotal: 15.7s\tremaining: 44.5s\n",
      "261:\tlearn: 12.2889146\ttotal: 15.8s\tremaining: 44.4s\n",
      "262:\tlearn: 12.2864203\ttotal: 15.8s\tremaining: 44.3s\n",
      "263:\tlearn: 12.2862324\ttotal: 15.9s\tremaining: 44.2s\n",
      "264:\tlearn: 12.2852568\ttotal: 15.9s\tremaining: 44.2s\n",
      "265:\tlearn: 12.2846665\ttotal: 16s\tremaining: 44.1s\n",
      "266:\tlearn: 12.2832209\ttotal: 16.1s\tremaining: 44.1s\n",
      "267:\tlearn: 12.2829785\ttotal: 16.1s\tremaining: 44s\n",
      "268:\tlearn: 12.2829355\ttotal: 16.1s\tremaining: 43.9s\n",
      "269:\tlearn: 12.2811702\ttotal: 16.2s\tremaining: 43.8s\n",
      "270:\tlearn: 12.2801062\ttotal: 16.3s\tremaining: 43.7s\n",
      "271:\tlearn: 12.2791160\ttotal: 16.3s\tremaining: 43.6s\n",
      "272:\tlearn: 12.2785784\ttotal: 16.4s\tremaining: 43.6s\n",
      "273:\tlearn: 12.2780293\ttotal: 16.4s\tremaining: 43.5s\n",
      "274:\tlearn: 12.2778277\ttotal: 16.5s\tremaining: 43.4s\n",
      "275:\tlearn: 12.2770417\ttotal: 16.5s\tremaining: 43.4s\n",
      "276:\tlearn: 12.2759842\ttotal: 16.6s\tremaining: 43.3s\n",
      "277:\tlearn: 12.2731278\ttotal: 16.7s\tremaining: 43.3s\n",
      "278:\tlearn: 12.2705626\ttotal: 16.7s\tremaining: 43.2s\n",
      "279:\tlearn: 12.2701572\ttotal: 16.8s\tremaining: 43.1s\n",
      "280:\tlearn: 12.2689105\ttotal: 16.8s\tremaining: 43.1s\n",
      "281:\tlearn: 12.2679479\ttotal: 16.9s\tremaining: 43s\n",
      "282:\tlearn: 12.2674371\ttotal: 16.9s\tremaining: 42.9s\n",
      "283:\tlearn: 12.2659739\ttotal: 17s\tremaining: 42.8s\n",
      "284:\tlearn: 12.2656083\ttotal: 17s\tremaining: 42.8s\n",
      "285:\tlearn: 12.2649204\ttotal: 17.1s\tremaining: 42.7s\n",
      "286:\tlearn: 12.2640348\ttotal: 17.2s\tremaining: 42.6s\n",
      "287:\tlearn: 12.2611973\ttotal: 17.2s\tremaining: 42.6s\n",
      "288:\tlearn: 12.2609394\ttotal: 17.3s\tremaining: 42.5s\n",
      "289:\tlearn: 12.2600449\ttotal: 17.3s\tremaining: 42.4s\n",
      "290:\tlearn: 12.2584527\ttotal: 17.4s\tremaining: 42.4s\n",
      "291:\tlearn: 12.2574740\ttotal: 17.4s\tremaining: 42.3s\n",
      "292:\tlearn: 12.2568290\ttotal: 17.5s\tremaining: 42.2s\n",
      "293:\tlearn: 12.2552344\ttotal: 17.5s\tremaining: 42.1s\n",
      "294:\tlearn: 12.2544021\ttotal: 17.6s\tremaining: 42.1s\n",
      "295:\tlearn: 12.2537756\ttotal: 17.7s\tremaining: 42s\n",
      "296:\tlearn: 12.2529452\ttotal: 17.7s\tremaining: 41.9s\n",
      "297:\tlearn: 12.2522045\ttotal: 17.8s\tremaining: 41.9s\n",
      "298:\tlearn: 12.2514504\ttotal: 17.8s\tremaining: 41.8s\n",
      "299:\tlearn: 12.2499928\ttotal: 17.9s\tremaining: 41.7s\n",
      "300:\tlearn: 12.2499651\ttotal: 17.9s\tremaining: 41.6s\n",
      "301:\tlearn: 12.2466026\ttotal: 18s\tremaining: 41.5s\n",
      "302:\tlearn: 12.2465627\ttotal: 18s\tremaining: 41.4s\n",
      "303:\tlearn: 12.2451816\ttotal: 18.1s\tremaining: 41.3s\n",
      "304:\tlearn: 12.2449227\ttotal: 18.1s\tremaining: 41.3s\n",
      "305:\tlearn: 12.2448255\ttotal: 18.2s\tremaining: 41.2s\n",
      "306:\tlearn: 12.2446031\ttotal: 18.2s\tremaining: 41.1s\n",
      "307:\tlearn: 12.2431742\ttotal: 18.3s\tremaining: 41.1s\n",
      "308:\tlearn: 12.2418040\ttotal: 18.3s\tremaining: 41s\n",
      "309:\tlearn: 12.2409432\ttotal: 18.4s\tremaining: 40.9s\n",
      "310:\tlearn: 12.2403908\ttotal: 18.5s\tremaining: 40.9s\n",
      "311:\tlearn: 12.2392548\ttotal: 18.5s\tremaining: 40.8s\n",
      "312:\tlearn: 12.2367333\ttotal: 18.6s\tremaining: 40.8s\n",
      "313:\tlearn: 12.2359867\ttotal: 18.6s\tremaining: 40.7s\n",
      "314:\tlearn: 12.2359226\ttotal: 18.7s\tremaining: 40.6s\n",
      "315:\tlearn: 12.2349238\ttotal: 18.7s\tremaining: 40.5s\n"
     ]
    },
    {
     "name": "stdout",
     "output_type": "stream",
     "text": [
      "316:\tlearn: 12.2346008\ttotal: 18.8s\tremaining: 40.5s\n",
      "317:\tlearn: 12.2337184\ttotal: 18.9s\tremaining: 40.4s\n",
      "318:\tlearn: 12.2331461\ttotal: 18.9s\tremaining: 40.4s\n",
      "319:\tlearn: 12.2309990\ttotal: 19s\tremaining: 40.3s\n",
      "320:\tlearn: 12.2307017\ttotal: 19s\tremaining: 40.2s\n",
      "321:\tlearn: 12.2305425\ttotal: 19.1s\tremaining: 40.2s\n",
      "322:\tlearn: 12.2299427\ttotal: 19.1s\tremaining: 40.1s\n",
      "323:\tlearn: 12.2290407\ttotal: 19.2s\tremaining: 40.1s\n",
      "324:\tlearn: 12.2286676\ttotal: 19.3s\tremaining: 40s\n",
      "325:\tlearn: 12.2269259\ttotal: 19.3s\tremaining: 39.9s\n",
      "326:\tlearn: 12.2266161\ttotal: 19.4s\tremaining: 39.9s\n",
      "327:\tlearn: 12.2258434\ttotal: 19.4s\tremaining: 39.8s\n",
      "328:\tlearn: 12.2255785\ttotal: 19.5s\tremaining: 39.7s\n",
      "329:\tlearn: 12.2252304\ttotal: 19.5s\tremaining: 39.6s\n",
      "330:\tlearn: 12.2237916\ttotal: 19.6s\tremaining: 39.5s\n",
      "331:\tlearn: 12.2235530\ttotal: 19.6s\tremaining: 39.5s\n",
      "332:\tlearn: 12.2227346\ttotal: 19.7s\tremaining: 39.4s\n",
      "333:\tlearn: 12.2224223\ttotal: 19.7s\tremaining: 39.3s\n",
      "334:\tlearn: 12.2220258\ttotal: 19.8s\tremaining: 39.3s\n",
      "335:\tlearn: 12.2218261\ttotal: 19.8s\tremaining: 39.2s\n",
      "336:\tlearn: 12.2173961\ttotal: 19.9s\tremaining: 39.1s\n",
      "337:\tlearn: 12.2168497\ttotal: 20s\tremaining: 39.1s\n",
      "338:\tlearn: 12.2162213\ttotal: 20s\tremaining: 39.1s\n",
      "339:\tlearn: 12.2159292\ttotal: 20.1s\tremaining: 39s\n",
      "340:\tlearn: 12.2151157\ttotal: 20.2s\tremaining: 39s\n",
      "341:\tlearn: 12.2144535\ttotal: 20.2s\tremaining: 38.9s\n",
      "342:\tlearn: 12.2137710\ttotal: 20.3s\tremaining: 38.9s\n",
      "343:\tlearn: 12.2125447\ttotal: 20.3s\tremaining: 38.8s\n",
      "344:\tlearn: 12.2111064\ttotal: 20.4s\tremaining: 38.7s\n",
      "345:\tlearn: 12.2107833\ttotal: 20.4s\tremaining: 38.7s\n",
      "346:\tlearn: 12.2102532\ttotal: 20.5s\tremaining: 38.6s\n",
      "347:\tlearn: 12.2096524\ttotal: 20.6s\tremaining: 38.5s\n",
      "348:\tlearn: 12.2093841\ttotal: 20.6s\tremaining: 38.4s\n",
      "349:\tlearn: 12.2064447\ttotal: 20.6s\tremaining: 38.3s\n",
      "350:\tlearn: 12.2059046\ttotal: 20.7s\tremaining: 38.3s\n",
      "351:\tlearn: 12.2057192\ttotal: 20.7s\tremaining: 38.2s\n",
      "352:\tlearn: 12.2033887\ttotal: 20.8s\tremaining: 38.1s\n",
      "353:\tlearn: 12.2025527\ttotal: 20.9s\tremaining: 38.1s\n",
      "354:\tlearn: 12.2023461\ttotal: 20.9s\tremaining: 38s\n",
      "355:\tlearn: 12.2012727\ttotal: 20.9s\tremaining: 37.9s\n",
      "356:\tlearn: 12.1981744\ttotal: 21s\tremaining: 37.8s\n",
      "357:\tlearn: 12.1979675\ttotal: 21s\tremaining: 37.7s\n",
      "358:\tlearn: 12.1974704\ttotal: 21.1s\tremaining: 37.7s\n",
      "359:\tlearn: 12.1970191\ttotal: 21.1s\tremaining: 37.6s\n",
      "360:\tlearn: 12.1951370\ttotal: 21.2s\tremaining: 37.5s\n",
      "361:\tlearn: 12.1949210\ttotal: 21.2s\tremaining: 37.4s\n",
      "362:\tlearn: 12.1938237\ttotal: 21.3s\tremaining: 37.4s\n",
      "363:\tlearn: 12.1901273\ttotal: 21.3s\tremaining: 37.3s\n",
      "364:\tlearn: 12.1877336\ttotal: 21.4s\tremaining: 37.2s\n",
      "365:\tlearn: 12.1870075\ttotal: 21.4s\tremaining: 37.1s\n",
      "366:\tlearn: 12.1858694\ttotal: 21.5s\tremaining: 37.1s\n",
      "367:\tlearn: 12.1847698\ttotal: 21.5s\tremaining: 37s\n",
      "368:\tlearn: 12.1842742\ttotal: 21.6s\tremaining: 36.9s\n",
      "369:\tlearn: 12.1838847\ttotal: 21.6s\tremaining: 36.8s\n",
      "370:\tlearn: 12.1836833\ttotal: 21.7s\tremaining: 36.8s\n",
      "371:\tlearn: 12.1825686\ttotal: 21.7s\tremaining: 36.7s\n",
      "372:\tlearn: 12.1823733\ttotal: 21.8s\tremaining: 36.6s\n",
      "373:\tlearn: 12.1795417\ttotal: 21.8s\tremaining: 36.6s\n",
      "374:\tlearn: 12.1789317\ttotal: 21.9s\tremaining: 36.5s\n",
      "375:\tlearn: 12.1788091\ttotal: 21.9s\tremaining: 36.4s\n",
      "376:\tlearn: 12.1782940\ttotal: 22s\tremaining: 36.3s\n",
      "377:\tlearn: 12.1775805\ttotal: 22s\tremaining: 36.3s\n",
      "378:\tlearn: 12.1773636\ttotal: 22.1s\tremaining: 36.2s\n",
      "379:\tlearn: 12.1768332\ttotal: 22.1s\tremaining: 36.1s\n",
      "380:\tlearn: 12.1767173\ttotal: 22.2s\tremaining: 36s\n",
      "381:\tlearn: 12.1761131\ttotal: 22.2s\tremaining: 36s\n",
      "382:\tlearn: 12.1749082\ttotal: 22.3s\tremaining: 35.9s\n",
      "383:\tlearn: 12.1735194\ttotal: 22.3s\tremaining: 35.8s\n",
      "384:\tlearn: 12.1729765\ttotal: 22.4s\tremaining: 35.8s\n",
      "385:\tlearn: 12.1723112\ttotal: 22.4s\tremaining: 35.7s\n",
      "386:\tlearn: 12.1717061\ttotal: 22.5s\tremaining: 35.6s\n",
      "387:\tlearn: 12.1714079\ttotal: 22.5s\tremaining: 35.6s\n",
      "388:\tlearn: 12.1694376\ttotal: 22.6s\tremaining: 35.5s\n",
      "389:\tlearn: 12.1689402\ttotal: 22.7s\tremaining: 35.4s\n",
      "390:\tlearn: 12.1685706\ttotal: 22.7s\tremaining: 35.4s\n",
      "391:\tlearn: 12.1683475\ttotal: 22.8s\tremaining: 35.3s\n",
      "392:\tlearn: 12.1667677\ttotal: 22.8s\tremaining: 35.3s\n",
      "393:\tlearn: 12.1664644\ttotal: 22.9s\tremaining: 35.2s\n",
      "394:\tlearn: 12.1659746\ttotal: 22.9s\tremaining: 35.1s\n",
      "395:\tlearn: 12.1657909\ttotal: 23s\tremaining: 35.1s\n",
      "396:\tlearn: 12.1612291\ttotal: 23.1s\tremaining: 35s\n",
      "397:\tlearn: 12.1581537\ttotal: 23.1s\tremaining: 34.9s\n",
      "398:\tlearn: 12.1576609\ttotal: 23.1s\tremaining: 34.9s\n",
      "399:\tlearn: 12.1566766\ttotal: 23.2s\tremaining: 34.8s\n",
      "400:\tlearn: 12.1561976\ttotal: 23.3s\tremaining: 34.7s\n",
      "401:\tlearn: 12.1553779\ttotal: 23.3s\tremaining: 34.7s\n",
      "402:\tlearn: 12.1551207\ttotal: 23.3s\tremaining: 34.6s\n",
      "403:\tlearn: 12.1548000\ttotal: 23.4s\tremaining: 34.5s\n",
      "404:\tlearn: 12.1546072\ttotal: 23.4s\tremaining: 34.4s\n",
      "405:\tlearn: 12.1539336\ttotal: 23.5s\tremaining: 34.4s\n",
      "406:\tlearn: 12.1537490\ttotal: 23.5s\tremaining: 34.3s\n",
      "407:\tlearn: 12.1530819\ttotal: 23.6s\tremaining: 34.2s\n",
      "408:\tlearn: 12.1529041\ttotal: 23.7s\tremaining: 34.2s\n",
      "409:\tlearn: 12.1506901\ttotal: 23.7s\tremaining: 34.1s\n",
      "410:\tlearn: 12.1494526\ttotal: 23.8s\tremaining: 34.1s\n",
      "411:\tlearn: 12.1490412\ttotal: 23.8s\tremaining: 34s\n",
      "412:\tlearn: 12.1480025\ttotal: 23.9s\tremaining: 33.9s\n",
      "413:\tlearn: 12.1471248\ttotal: 23.9s\tremaining: 33.9s\n",
      "414:\tlearn: 12.1465220\ttotal: 24s\tremaining: 33.8s\n",
      "415:\tlearn: 12.1462632\ttotal: 24.1s\tremaining: 33.8s\n",
      "416:\tlearn: 12.1459429\ttotal: 24.1s\tremaining: 33.7s\n",
      "417:\tlearn: 12.1446352\ttotal: 24.2s\tremaining: 33.6s\n",
      "418:\tlearn: 12.1438857\ttotal: 24.2s\tremaining: 33.6s\n",
      "419:\tlearn: 12.1429757\ttotal: 24.3s\tremaining: 33.5s\n",
      "420:\tlearn: 12.1423476\ttotal: 24.3s\tremaining: 33.5s\n",
      "421:\tlearn: 12.1419416\ttotal: 24.4s\tremaining: 33.4s\n",
      "422:\tlearn: 12.1417190\ttotal: 24.4s\tremaining: 33.3s\n",
      "423:\tlearn: 12.1381152\ttotal: 24.5s\tremaining: 33.3s\n",
      "424:\tlearn: 12.1375964\ttotal: 24.5s\tremaining: 33.2s\n",
      "425:\tlearn: 12.1372361\ttotal: 24.6s\tremaining: 33.1s\n",
      "426:\tlearn: 12.1369703\ttotal: 24.6s\tremaining: 33s\n",
      "427:\tlearn: 12.1367689\ttotal: 24.7s\tremaining: 33s\n",
      "428:\tlearn: 12.1362427\ttotal: 24.7s\tremaining: 32.9s\n",
      "429:\tlearn: 12.1353109\ttotal: 24.8s\tremaining: 32.8s\n",
      "430:\tlearn: 12.1350133\ttotal: 24.8s\tremaining: 32.8s\n",
      "431:\tlearn: 12.1338786\ttotal: 24.9s\tremaining: 32.7s\n",
      "432:\tlearn: 12.1334341\ttotal: 24.9s\tremaining: 32.6s\n",
      "433:\tlearn: 12.1320610\ttotal: 25s\tremaining: 32.6s\n",
      "434:\tlearn: 12.1311429\ttotal: 25s\tremaining: 32.5s\n",
      "435:\tlearn: 12.1299123\ttotal: 25.1s\tremaining: 32.5s\n",
      "436:\tlearn: 12.1295079\ttotal: 25.1s\tremaining: 32.4s\n",
      "437:\tlearn: 12.1290973\ttotal: 25.2s\tremaining: 32.3s\n",
      "438:\tlearn: 12.1253972\ttotal: 25.3s\tremaining: 32.3s\n",
      "439:\tlearn: 12.1249579\ttotal: 25.3s\tremaining: 32.2s\n",
      "440:\tlearn: 12.1248152\ttotal: 25.4s\tremaining: 32.1s\n",
      "441:\tlearn: 12.1238587\ttotal: 25.4s\tremaining: 32.1s\n",
      "442:\tlearn: 12.1218494\ttotal: 25.5s\tremaining: 32s\n",
      "443:\tlearn: 12.1212357\ttotal: 25.5s\tremaining: 32s\n",
      "444:\tlearn: 12.1208879\ttotal: 25.6s\tremaining: 31.9s\n",
      "445:\tlearn: 12.1207454\ttotal: 25.6s\tremaining: 31.8s\n",
      "446:\tlearn: 12.1205076\ttotal: 25.7s\tremaining: 31.8s\n",
      "447:\tlearn: 12.1202190\ttotal: 25.7s\tremaining: 31.7s\n",
      "448:\tlearn: 12.1197005\ttotal: 25.8s\tremaining: 31.6s\n",
      "449:\tlearn: 12.1175995\ttotal: 25.8s\tremaining: 31.6s\n",
      "450:\tlearn: 12.1166998\ttotal: 25.9s\tremaining: 31.5s\n",
      "451:\tlearn: 12.1130974\ttotal: 26s\tremaining: 31.5s\n",
      "452:\tlearn: 12.1124987\ttotal: 26s\tremaining: 31.4s\n",
      "453:\tlearn: 12.1100733\ttotal: 26.1s\tremaining: 31.4s\n",
      "454:\tlearn: 12.1096013\ttotal: 26.1s\tremaining: 31.3s\n",
      "455:\tlearn: 12.1095372\ttotal: 26.2s\tremaining: 31.2s\n",
      "456:\tlearn: 12.1094315\ttotal: 26.2s\tremaining: 31.2s\n",
      "457:\tlearn: 12.1085947\ttotal: 26.3s\tremaining: 31.1s\n",
      "458:\tlearn: 12.1085106\ttotal: 26.3s\tremaining: 31s\n",
      "459:\tlearn: 12.1081220\ttotal: 26.4s\tremaining: 30.9s\n",
      "460:\tlearn: 12.1077069\ttotal: 26.4s\tremaining: 30.9s\n",
      "461:\tlearn: 12.1072358\ttotal: 26.5s\tremaining: 30.8s\n",
      "462:\tlearn: 12.1039421\ttotal: 26.5s\tremaining: 30.8s\n",
      "463:\tlearn: 12.1030446\ttotal: 26.6s\tremaining: 30.7s\n",
      "464:\tlearn: 12.1026630\ttotal: 26.6s\tremaining: 30.6s\n",
      "465:\tlearn: 12.1022177\ttotal: 26.7s\tremaining: 30.6s\n",
      "466:\tlearn: 12.1019763\ttotal: 26.8s\tremaining: 30.5s\n",
      "467:\tlearn: 12.1015017\ttotal: 26.8s\tremaining: 30.5s\n",
      "468:\tlearn: 12.1008307\ttotal: 26.9s\tremaining: 30.4s\n",
      "469:\tlearn: 12.1002639\ttotal: 26.9s\tremaining: 30.3s\n",
      "470:\tlearn: 12.0974069\ttotal: 27s\tremaining: 30.3s\n",
      "471:\tlearn: 12.0972555\ttotal: 27s\tremaining: 30.2s\n"
     ]
    },
    {
     "name": "stdout",
     "output_type": "stream",
     "text": [
      "472:\tlearn: 12.0968319\ttotal: 27.1s\tremaining: 30.2s\n",
      "473:\tlearn: 12.0964196\ttotal: 27.1s\tremaining: 30.1s\n",
      "474:\tlearn: 12.0957172\ttotal: 27.2s\tremaining: 30s\n",
      "475:\tlearn: 12.0956120\ttotal: 27.2s\tremaining: 30s\n",
      "476:\tlearn: 12.0933415\ttotal: 27.3s\tremaining: 29.9s\n",
      "477:\tlearn: 12.0927926\ttotal: 27.3s\tremaining: 29.9s\n",
      "478:\tlearn: 12.0926263\ttotal: 27.4s\tremaining: 29.8s\n",
      "479:\tlearn: 12.0921203\ttotal: 27.4s\tremaining: 29.7s\n",
      "480:\tlearn: 12.0916970\ttotal: 27.5s\tremaining: 29.7s\n",
      "481:\tlearn: 12.0902997\ttotal: 27.6s\tremaining: 29.6s\n",
      "482:\tlearn: 12.0901646\ttotal: 27.6s\tremaining: 29.6s\n",
      "483:\tlearn: 12.0897859\ttotal: 27.7s\tremaining: 29.5s\n",
      "484:\tlearn: 12.0889786\ttotal: 27.7s\tremaining: 29.4s\n",
      "485:\tlearn: 12.0886207\ttotal: 27.8s\tremaining: 29.4s\n",
      "486:\tlearn: 12.0881593\ttotal: 27.8s\tremaining: 29.3s\n",
      "487:\tlearn: 12.0861453\ttotal: 27.9s\tremaining: 29.3s\n",
      "488:\tlearn: 12.0859754\ttotal: 27.9s\tremaining: 29.2s\n",
      "489:\tlearn: 12.0841076\ttotal: 28s\tremaining: 29.2s\n",
      "490:\tlearn: 12.0810316\ttotal: 28.1s\tremaining: 29.1s\n",
      "491:\tlearn: 12.0802598\ttotal: 28.1s\tremaining: 29s\n",
      "492:\tlearn: 12.0796702\ttotal: 28.2s\tremaining: 29s\n",
      "493:\tlearn: 12.0788045\ttotal: 28.2s\tremaining: 28.9s\n",
      "494:\tlearn: 12.0781394\ttotal: 28.3s\tremaining: 28.9s\n",
      "495:\tlearn: 12.0778980\ttotal: 28.4s\tremaining: 28.8s\n",
      "496:\tlearn: 12.0775403\ttotal: 28.4s\tremaining: 28.7s\n",
      "497:\tlearn: 12.0768012\ttotal: 28.5s\tremaining: 28.7s\n",
      "498:\tlearn: 12.0760495\ttotal: 28.5s\tremaining: 28.6s\n",
      "499:\tlearn: 12.0759475\ttotal: 28.6s\tremaining: 28.6s\n",
      "500:\tlearn: 12.0757914\ttotal: 28.6s\tremaining: 28.5s\n",
      "501:\tlearn: 12.0749465\ttotal: 28.6s\tremaining: 28.4s\n",
      "502:\tlearn: 12.0748137\ttotal: 28.7s\tremaining: 28.4s\n",
      "503:\tlearn: 12.0745747\ttotal: 28.7s\tremaining: 28.3s\n",
      "504:\tlearn: 12.0733985\ttotal: 28.8s\tremaining: 28.2s\n",
      "505:\tlearn: 12.0732421\ttotal: 28.8s\tremaining: 28.2s\n",
      "506:\tlearn: 12.0704289\ttotal: 28.9s\tremaining: 28.1s\n",
      "507:\tlearn: 12.0701971\ttotal: 28.9s\tremaining: 28s\n",
      "508:\tlearn: 12.0700883\ttotal: 29s\tremaining: 28s\n",
      "509:\tlearn: 12.0699421\ttotal: 29s\tremaining: 27.9s\n",
      "510:\tlearn: 12.0694966\ttotal: 29.1s\tremaining: 27.8s\n",
      "511:\tlearn: 12.0691489\ttotal: 29.2s\tremaining: 27.8s\n",
      "512:\tlearn: 12.0688948\ttotal: 29.2s\tremaining: 27.7s\n",
      "513:\tlearn: 12.0680261\ttotal: 29.3s\tremaining: 27.7s\n",
      "514:\tlearn: 12.0677303\ttotal: 29.3s\tremaining: 27.6s\n",
      "515:\tlearn: 12.0670849\ttotal: 29.4s\tremaining: 27.5s\n",
      "516:\tlearn: 12.0669022\ttotal: 29.4s\tremaining: 27.5s\n",
      "517:\tlearn: 12.0666266\ttotal: 29.5s\tremaining: 27.4s\n",
      "518:\tlearn: 12.0659612\ttotal: 29.5s\tremaining: 27.3s\n",
      "519:\tlearn: 12.0655117\ttotal: 29.6s\tremaining: 27.3s\n",
      "520:\tlearn: 12.0641633\ttotal: 29.6s\tremaining: 27.2s\n",
      "521:\tlearn: 12.0619865\ttotal: 29.7s\tremaining: 27.2s\n",
      "522:\tlearn: 12.0613568\ttotal: 29.7s\tremaining: 27.1s\n",
      "523:\tlearn: 12.0601052\ttotal: 29.8s\tremaining: 27.1s\n",
      "524:\tlearn: 12.0600205\ttotal: 29.8s\tremaining: 27s\n",
      "525:\tlearn: 12.0599325\ttotal: 29.9s\tremaining: 26.9s\n",
      "526:\tlearn: 12.0594538\ttotal: 29.9s\tremaining: 26.9s\n",
      "527:\tlearn: 12.0593855\ttotal: 30s\tremaining: 26.8s\n",
      "528:\tlearn: 12.0592956\ttotal: 30s\tremaining: 26.8s\n",
      "529:\tlearn: 12.0583285\ttotal: 30.1s\tremaining: 26.7s\n",
      "530:\tlearn: 12.0573109\ttotal: 30.2s\tremaining: 26.6s\n",
      "531:\tlearn: 12.0570844\ttotal: 30.2s\tremaining: 26.6s\n",
      "532:\tlearn: 12.0569890\ttotal: 30.3s\tremaining: 26.5s\n",
      "533:\tlearn: 12.0566831\ttotal: 30.3s\tremaining: 26.5s\n",
      "534:\tlearn: 12.0557414\ttotal: 30.4s\tremaining: 26.4s\n",
      "535:\tlearn: 12.0553363\ttotal: 30.4s\tremaining: 26.3s\n",
      "536:\tlearn: 12.0550152\ttotal: 30.5s\tremaining: 26.3s\n",
      "537:\tlearn: 12.0517592\ttotal: 30.5s\tremaining: 26.2s\n",
      "538:\tlearn: 12.0516175\ttotal: 30.6s\tremaining: 26.1s\n",
      "539:\tlearn: 12.0512440\ttotal: 30.6s\tremaining: 26.1s\n",
      "540:\tlearn: 12.0506543\ttotal: 30.7s\tremaining: 26s\n",
      "541:\tlearn: 12.0505605\ttotal: 30.7s\tremaining: 26s\n",
      "542:\tlearn: 12.0505169\ttotal: 30.8s\tremaining: 25.9s\n",
      "543:\tlearn: 12.0493820\ttotal: 30.8s\tremaining: 25.8s\n",
      "544:\tlearn: 12.0491766\ttotal: 30.9s\tremaining: 25.8s\n",
      "545:\tlearn: 12.0490988\ttotal: 30.9s\tremaining: 25.7s\n",
      "546:\tlearn: 12.0487168\ttotal: 31s\tremaining: 25.6s\n",
      "547:\tlearn: 12.0456229\ttotal: 31s\tremaining: 25.6s\n",
      "548:\tlearn: 12.0453636\ttotal: 31.1s\tremaining: 25.5s\n",
      "549:\tlearn: 12.0447576\ttotal: 31.1s\tremaining: 25.5s\n",
      "550:\tlearn: 12.0446430\ttotal: 31.2s\tremaining: 25.4s\n",
      "551:\tlearn: 12.0443059\ttotal: 31.2s\tremaining: 25.4s\n",
      "552:\tlearn: 12.0441628\ttotal: 31.3s\tremaining: 25.3s\n",
      "553:\tlearn: 12.0441192\ttotal: 31.3s\tremaining: 25.2s\n",
      "554:\tlearn: 12.0437142\ttotal: 31.4s\tremaining: 25.2s\n",
      "555:\tlearn: 12.0431437\ttotal: 31.4s\tremaining: 25.1s\n",
      "556:\tlearn: 12.0423791\ttotal: 31.5s\tremaining: 25s\n",
      "557:\tlearn: 12.0420772\ttotal: 31.5s\tremaining: 25s\n",
      "558:\tlearn: 12.0419052\ttotal: 31.6s\tremaining: 24.9s\n",
      "559:\tlearn: 12.0412581\ttotal: 31.6s\tremaining: 24.8s\n",
      "560:\tlearn: 12.0409711\ttotal: 31.7s\tremaining: 24.8s\n",
      "561:\tlearn: 12.0403966\ttotal: 31.7s\tremaining: 24.7s\n",
      "562:\tlearn: 12.0401420\ttotal: 31.8s\tremaining: 24.7s\n",
      "563:\tlearn: 12.0398644\ttotal: 31.8s\tremaining: 24.6s\n",
      "564:\tlearn: 12.0397565\ttotal: 31.9s\tremaining: 24.6s\n",
      "565:\tlearn: 12.0395636\ttotal: 31.9s\tremaining: 24.5s\n",
      "566:\tlearn: 12.0366368\ttotal: 32s\tremaining: 24.4s\n",
      "567:\tlearn: 12.0362992\ttotal: 32s\tremaining: 24.4s\n",
      "568:\tlearn: 12.0356268\ttotal: 32.1s\tremaining: 24.3s\n",
      "569:\tlearn: 12.0340095\ttotal: 32.2s\tremaining: 24.3s\n",
      "570:\tlearn: 12.0312283\ttotal: 32.2s\tremaining: 24.2s\n",
      "571:\tlearn: 12.0302820\ttotal: 32.3s\tremaining: 24.1s\n",
      "572:\tlearn: 12.0297417\ttotal: 32.3s\tremaining: 24.1s\n",
      "573:\tlearn: 12.0295572\ttotal: 32.4s\tremaining: 24s\n",
      "574:\tlearn: 12.0294687\ttotal: 32.4s\tremaining: 24s\n",
      "575:\tlearn: 12.0291277\ttotal: 32.5s\tremaining: 23.9s\n",
      "576:\tlearn: 12.0282866\ttotal: 32.5s\tremaining: 23.8s\n",
      "577:\tlearn: 12.0281328\ttotal: 32.6s\tremaining: 23.8s\n",
      "578:\tlearn: 12.0275639\ttotal: 32.6s\tremaining: 23.7s\n",
      "579:\tlearn: 12.0272766\ttotal: 32.7s\tremaining: 23.7s\n",
      "580:\tlearn: 12.0265875\ttotal: 32.7s\tremaining: 23.6s\n",
      "581:\tlearn: 12.0264612\ttotal: 32.8s\tremaining: 23.5s\n",
      "582:\tlearn: 12.0239453\ttotal: 32.8s\tremaining: 23.5s\n",
      "583:\tlearn: 12.0237799\ttotal: 32.9s\tremaining: 23.4s\n",
      "584:\tlearn: 12.0236880\ttotal: 32.9s\tremaining: 23.4s\n",
      "585:\tlearn: 12.0232601\ttotal: 33s\tremaining: 23.3s\n",
      "586:\tlearn: 12.0211757\ttotal: 33s\tremaining: 23.3s\n",
      "587:\tlearn: 12.0206590\ttotal: 33.1s\tremaining: 23.2s\n",
      "588:\tlearn: 12.0204020\ttotal: 33.2s\tremaining: 23.1s\n",
      "589:\tlearn: 12.0177096\ttotal: 33.2s\tremaining: 23.1s\n",
      "590:\tlearn: 12.0175457\ttotal: 33.3s\tremaining: 23s\n",
      "591:\tlearn: 12.0174357\ttotal: 33.3s\tremaining: 23s\n",
      "592:\tlearn: 12.0171195\ttotal: 33.4s\tremaining: 22.9s\n",
      "593:\tlearn: 12.0147723\ttotal: 33.4s\tremaining: 22.8s\n",
      "594:\tlearn: 12.0145595\ttotal: 33.5s\tremaining: 22.8s\n",
      "595:\tlearn: 12.0137774\ttotal: 33.5s\tremaining: 22.7s\n",
      "596:\tlearn: 12.0111692\ttotal: 33.6s\tremaining: 22.7s\n",
      "597:\tlearn: 12.0108588\ttotal: 33.6s\tremaining: 22.6s\n",
      "598:\tlearn: 12.0107304\ttotal: 33.7s\tremaining: 22.5s\n",
      "599:\tlearn: 12.0105786\ttotal: 33.7s\tremaining: 22.5s\n",
      "600:\tlearn: 12.0100718\ttotal: 33.8s\tremaining: 22.4s\n",
      "601:\tlearn: 12.0097652\ttotal: 33.8s\tremaining: 22.4s\n",
      "602:\tlearn: 12.0077361\ttotal: 33.9s\tremaining: 22.3s\n",
      "603:\tlearn: 12.0068175\ttotal: 33.9s\tremaining: 22.3s\n",
      "604:\tlearn: 12.0066866\ttotal: 34s\tremaining: 22.2s\n",
      "605:\tlearn: 12.0062496\ttotal: 34.1s\tremaining: 22.1s\n",
      "606:\tlearn: 12.0059061\ttotal: 34.1s\tremaining: 22.1s\n",
      "607:\tlearn: 12.0057503\ttotal: 34.1s\tremaining: 22s\n",
      "608:\tlearn: 12.0032862\ttotal: 34.2s\tremaining: 22s\n",
      "609:\tlearn: 12.0032654\ttotal: 34.2s\tremaining: 21.9s\n",
      "610:\tlearn: 12.0027851\ttotal: 34.3s\tremaining: 21.8s\n",
      "611:\tlearn: 12.0006295\ttotal: 34.3s\tremaining: 21.8s\n",
      "612:\tlearn: 12.0001403\ttotal: 34.4s\tremaining: 21.7s\n",
      "613:\tlearn: 11.9999879\ttotal: 34.4s\tremaining: 21.6s\n",
      "614:\tlearn: 11.9997305\ttotal: 34.5s\tremaining: 21.6s\n",
      "615:\tlearn: 11.9975826\ttotal: 34.6s\tremaining: 21.5s\n",
      "616:\tlearn: 11.9969844\ttotal: 34.6s\tremaining: 21.5s\n",
      "617:\tlearn: 11.9965869\ttotal: 34.7s\tremaining: 21.4s\n",
      "618:\tlearn: 11.9963429\ttotal: 34.7s\tremaining: 21.4s\n",
      "619:\tlearn: 11.9961074\ttotal: 34.8s\tremaining: 21.3s\n",
      "620:\tlearn: 11.9956904\ttotal: 34.9s\tremaining: 21.3s\n",
      "621:\tlearn: 11.9951608\ttotal: 34.9s\tremaining: 21.2s\n",
      "622:\tlearn: 11.9947222\ttotal: 35s\tremaining: 21.2s\n",
      "623:\tlearn: 11.9936220\ttotal: 35s\tremaining: 21.1s\n",
      "624:\tlearn: 11.9929349\ttotal: 35.1s\tremaining: 21.1s\n",
      "625:\tlearn: 11.9924272\ttotal: 35.2s\tremaining: 21s\n",
      "626:\tlearn: 11.9923319\ttotal: 35.2s\tremaining: 21s\n",
      "627:\tlearn: 11.9921828\ttotal: 35.3s\tremaining: 20.9s\n",
      "628:\tlearn: 11.9918052\ttotal: 35.3s\tremaining: 20.8s\n",
      "629:\tlearn: 11.9901596\ttotal: 35.4s\tremaining: 20.8s\n",
      "630:\tlearn: 11.9894747\ttotal: 35.5s\tremaining: 20.7s\n"
     ]
    },
    {
     "name": "stdout",
     "output_type": "stream",
     "text": [
      "631:\tlearn: 11.9878173\ttotal: 35.6s\tremaining: 20.7s\n",
      "632:\tlearn: 11.9877038\ttotal: 35.6s\tremaining: 20.6s\n",
      "633:\tlearn: 11.9872914\ttotal: 35.6s\tremaining: 20.6s\n",
      "634:\tlearn: 11.9867101\ttotal: 35.7s\tremaining: 20.5s\n",
      "635:\tlearn: 11.9842742\ttotal: 35.8s\tremaining: 20.5s\n",
      "636:\tlearn: 11.9839415\ttotal: 35.8s\tremaining: 20.4s\n",
      "637:\tlearn: 11.9835281\ttotal: 35.8s\tremaining: 20.3s\n",
      "638:\tlearn: 11.9834285\ttotal: 35.9s\tremaining: 20.3s\n",
      "639:\tlearn: 11.9830378\ttotal: 36s\tremaining: 20.2s\n",
      "640:\tlearn: 11.9826940\ttotal: 36s\tremaining: 20.2s\n",
      "641:\tlearn: 11.9822369\ttotal: 36.1s\tremaining: 20.1s\n",
      "642:\tlearn: 11.9817736\ttotal: 36.1s\tremaining: 20.1s\n",
      "643:\tlearn: 11.9812982\ttotal: 36.2s\tremaining: 20s\n",
      "644:\tlearn: 11.9809011\ttotal: 36.3s\tremaining: 20s\n",
      "645:\tlearn: 11.9806706\ttotal: 36.3s\tremaining: 19.9s\n",
      "646:\tlearn: 11.9804397\ttotal: 36.4s\tremaining: 19.8s\n",
      "647:\tlearn: 11.9802948\ttotal: 36.4s\tremaining: 19.8s\n",
      "648:\tlearn: 11.9800014\ttotal: 36.5s\tremaining: 19.7s\n",
      "649:\tlearn: 11.9797470\ttotal: 36.6s\tremaining: 19.7s\n",
      "650:\tlearn: 11.9796663\ttotal: 36.6s\tremaining: 19.6s\n",
      "651:\tlearn: 11.9794052\ttotal: 36.7s\tremaining: 19.6s\n",
      "652:\tlearn: 11.9792535\ttotal: 36.7s\tremaining: 19.5s\n",
      "653:\tlearn: 11.9788698\ttotal: 36.8s\tremaining: 19.5s\n",
      "654:\tlearn: 11.9785958\ttotal: 36.8s\tremaining: 19.4s\n",
      "655:\tlearn: 11.9784532\ttotal: 36.9s\tremaining: 19.4s\n",
      "656:\tlearn: 11.9782692\ttotal: 37s\tremaining: 19.3s\n",
      "657:\tlearn: 11.9776538\ttotal: 37s\tremaining: 19.2s\n",
      "658:\tlearn: 11.9775298\ttotal: 37.1s\tremaining: 19.2s\n",
      "659:\tlearn: 11.9765798\ttotal: 37.1s\tremaining: 19.1s\n",
      "660:\tlearn: 11.9752195\ttotal: 37.2s\tremaining: 19.1s\n",
      "661:\tlearn: 11.9751413\ttotal: 37.2s\tremaining: 19s\n",
      "662:\tlearn: 11.9749003\ttotal: 37.3s\tremaining: 18.9s\n",
      "663:\tlearn: 11.9741962\ttotal: 37.3s\tremaining: 18.9s\n",
      "664:\tlearn: 11.9730450\ttotal: 37.4s\tremaining: 18.8s\n",
      "665:\tlearn: 11.9707528\ttotal: 37.5s\tremaining: 18.8s\n",
      "666:\tlearn: 11.9703947\ttotal: 37.5s\tremaining: 18.7s\n",
      "667:\tlearn: 11.9679206\ttotal: 37.6s\tremaining: 18.7s\n",
      "668:\tlearn: 11.9668544\ttotal: 37.7s\tremaining: 18.6s\n",
      "669:\tlearn: 11.9667906\ttotal: 37.7s\tremaining: 18.6s\n",
      "670:\tlearn: 11.9663100\ttotal: 37.8s\tremaining: 18.5s\n",
      "671:\tlearn: 11.9661346\ttotal: 37.8s\tremaining: 18.5s\n",
      "672:\tlearn: 11.9655610\ttotal: 37.9s\tremaining: 18.4s\n",
      "673:\tlearn: 11.9648352\ttotal: 37.9s\tremaining: 18.4s\n",
      "674:\tlearn: 11.9641540\ttotal: 38s\tremaining: 18.3s\n",
      "675:\tlearn: 11.9638374\ttotal: 38.1s\tremaining: 18.2s\n",
      "676:\tlearn: 11.9633257\ttotal: 38.1s\tremaining: 18.2s\n",
      "677:\tlearn: 11.9628464\ttotal: 38.2s\tremaining: 18.1s\n",
      "678:\tlearn: 11.9624011\ttotal: 38.2s\tremaining: 18.1s\n",
      "679:\tlearn: 11.9621739\ttotal: 38.3s\tremaining: 18s\n",
      "680:\tlearn: 11.9619399\ttotal: 38.3s\tremaining: 18s\n",
      "681:\tlearn: 11.9614649\ttotal: 38.4s\tremaining: 17.9s\n",
      "682:\tlearn: 11.9609595\ttotal: 38.4s\tremaining: 17.8s\n",
      "683:\tlearn: 11.9599690\ttotal: 38.5s\tremaining: 17.8s\n",
      "684:\tlearn: 11.9598533\ttotal: 38.6s\tremaining: 17.7s\n",
      "685:\tlearn: 11.9596459\ttotal: 38.7s\tremaining: 17.7s\n",
      "686:\tlearn: 11.9593230\ttotal: 38.7s\tremaining: 17.6s\n",
      "687:\tlearn: 11.9592184\ttotal: 38.8s\tremaining: 17.6s\n",
      "688:\tlearn: 11.9586485\ttotal: 38.8s\tremaining: 17.5s\n",
      "689:\tlearn: 11.9584379\ttotal: 38.9s\tremaining: 17.5s\n",
      "690:\tlearn: 11.9580950\ttotal: 38.9s\tremaining: 17.4s\n",
      "691:\tlearn: 11.9564945\ttotal: 39s\tremaining: 17.4s\n",
      "692:\tlearn: 11.9562052\ttotal: 39.1s\tremaining: 17.3s\n",
      "693:\tlearn: 11.9558002\ttotal: 39.1s\tremaining: 17.3s\n",
      "694:\tlearn: 11.9550464\ttotal: 39.2s\tremaining: 17.2s\n",
      "695:\tlearn: 11.9545232\ttotal: 39.3s\tremaining: 17.1s\n",
      "696:\tlearn: 11.9543092\ttotal: 39.3s\tremaining: 17.1s\n",
      "697:\tlearn: 11.9540192\ttotal: 39.4s\tremaining: 17s\n",
      "698:\tlearn: 11.9539115\ttotal: 39.4s\tremaining: 17s\n",
      "699:\tlearn: 11.9538327\ttotal: 39.5s\tremaining: 16.9s\n",
      "700:\tlearn: 11.9532965\ttotal: 39.5s\tremaining: 16.9s\n",
      "701:\tlearn: 11.9530072\ttotal: 39.6s\tremaining: 16.8s\n",
      "702:\tlearn: 11.9529357\ttotal: 39.6s\tremaining: 16.7s\n",
      "703:\tlearn: 11.9528880\ttotal: 39.7s\tremaining: 16.7s\n",
      "704:\tlearn: 11.9526576\ttotal: 39.8s\tremaining: 16.6s\n",
      "705:\tlearn: 11.9522375\ttotal: 39.8s\tremaining: 16.6s\n",
      "706:\tlearn: 11.9520868\ttotal: 39.9s\tremaining: 16.5s\n",
      "707:\tlearn: 11.9518138\ttotal: 40s\tremaining: 16.5s\n",
      "708:\tlearn: 11.9515656\ttotal: 40s\tremaining: 16.4s\n",
      "709:\tlearn: 11.9512551\ttotal: 40.1s\tremaining: 16.4s\n",
      "710:\tlearn: 11.9511222\ttotal: 40.1s\tremaining: 16.3s\n",
      "711:\tlearn: 11.9509861\ttotal: 40.2s\tremaining: 16.3s\n",
      "712:\tlearn: 11.9507955\ttotal: 40.3s\tremaining: 16.2s\n",
      "713:\tlearn: 11.9503934\ttotal: 40.3s\tremaining: 16.2s\n",
      "714:\tlearn: 11.9500407\ttotal: 40.4s\tremaining: 16.1s\n",
      "715:\tlearn: 11.9485984\ttotal: 40.5s\tremaining: 16.1s\n",
      "716:\tlearn: 11.9483667\ttotal: 40.5s\tremaining: 16s\n",
      "717:\tlearn: 11.9479731\ttotal: 40.6s\tremaining: 15.9s\n",
      "718:\tlearn: 11.9472580\ttotal: 40.7s\tremaining: 15.9s\n",
      "719:\tlearn: 11.9469260\ttotal: 40.7s\tremaining: 15.8s\n",
      "720:\tlearn: 11.9466235\ttotal: 40.8s\tremaining: 15.8s\n",
      "721:\tlearn: 11.9456704\ttotal: 40.8s\tremaining: 15.7s\n",
      "722:\tlearn: 11.9452339\ttotal: 40.9s\tremaining: 15.7s\n",
      "723:\tlearn: 11.9448550\ttotal: 41s\tremaining: 15.6s\n",
      "724:\tlearn: 11.9446944\ttotal: 41s\tremaining: 15.6s\n",
      "725:\tlearn: 11.9440325\ttotal: 41.1s\tremaining: 15.5s\n",
      "726:\tlearn: 11.9439522\ttotal: 41.1s\tremaining: 15.4s\n",
      "727:\tlearn: 11.9438202\ttotal: 41.2s\tremaining: 15.4s\n",
      "728:\tlearn: 11.9431914\ttotal: 41.2s\tremaining: 15.3s\n",
      "729:\tlearn: 11.9425252\ttotal: 41.3s\tremaining: 15.3s\n",
      "730:\tlearn: 11.9422997\ttotal: 41.3s\tremaining: 15.2s\n",
      "731:\tlearn: 11.9420175\ttotal: 41.4s\tremaining: 15.2s\n",
      "732:\tlearn: 11.9413903\ttotal: 41.5s\tremaining: 15.1s\n",
      "733:\tlearn: 11.9408323\ttotal: 41.5s\tremaining: 15.1s\n",
      "734:\tlearn: 11.9404903\ttotal: 41.6s\tremaining: 15s\n",
      "735:\tlearn: 11.9396452\ttotal: 41.6s\tremaining: 14.9s\n",
      "736:\tlearn: 11.9375687\ttotal: 41.7s\tremaining: 14.9s\n",
      "737:\tlearn: 11.9371125\ttotal: 41.7s\tremaining: 14.8s\n",
      "738:\tlearn: 11.9367698\ttotal: 41.8s\tremaining: 14.8s\n",
      "739:\tlearn: 11.9365726\ttotal: 41.9s\tremaining: 14.7s\n",
      "740:\tlearn: 11.9361256\ttotal: 42s\tremaining: 14.7s\n",
      "741:\tlearn: 11.9358324\ttotal: 42s\tremaining: 14.6s\n",
      "742:\tlearn: 11.9349919\ttotal: 42.1s\tremaining: 14.6s\n",
      "743:\tlearn: 11.9348500\ttotal: 42.1s\tremaining: 14.5s\n",
      "744:\tlearn: 11.9345906\ttotal: 42.2s\tremaining: 14.4s\n",
      "745:\tlearn: 11.9344652\ttotal: 42.2s\tremaining: 14.4s\n",
      "746:\tlearn: 11.9341888\ttotal: 42.3s\tremaining: 14.3s\n",
      "747:\tlearn: 11.9336914\ttotal: 42.4s\tremaining: 14.3s\n",
      "748:\tlearn: 11.9329557\ttotal: 42.4s\tremaining: 14.2s\n",
      "749:\tlearn: 11.9325688\ttotal: 42.5s\tremaining: 14.2s\n",
      "750:\tlearn: 11.9322691\ttotal: 42.5s\tremaining: 14.1s\n",
      "751:\tlearn: 11.9320962\ttotal: 42.6s\tremaining: 14.1s\n",
      "752:\tlearn: 11.9317657\ttotal: 42.7s\tremaining: 14s\n",
      "753:\tlearn: 11.9316142\ttotal: 42.7s\tremaining: 13.9s\n",
      "754:\tlearn: 11.9296264\ttotal: 42.8s\tremaining: 13.9s\n",
      "755:\tlearn: 11.9234097\ttotal: 42.8s\tremaining: 13.8s\n",
      "756:\tlearn: 11.9231561\ttotal: 42.9s\tremaining: 13.8s\n",
      "757:\tlearn: 11.9226724\ttotal: 42.9s\tremaining: 13.7s\n",
      "758:\tlearn: 11.9225609\ttotal: 43s\tremaining: 13.7s\n",
      "759:\tlearn: 11.9222897\ttotal: 43.1s\tremaining: 13.6s\n",
      "760:\tlearn: 11.9221419\ttotal: 43.1s\tremaining: 13.5s\n",
      "761:\tlearn: 11.9219489\ttotal: 43.2s\tremaining: 13.5s\n",
      "762:\tlearn: 11.9211694\ttotal: 43.2s\tremaining: 13.4s\n",
      "763:\tlearn: 11.9210571\ttotal: 43.3s\tremaining: 13.4s\n",
      "764:\tlearn: 11.9207167\ttotal: 43.3s\tremaining: 13.3s\n",
      "765:\tlearn: 11.9206744\ttotal: 43.4s\tremaining: 13.2s\n",
      "766:\tlearn: 11.9199289\ttotal: 43.4s\tremaining: 13.2s\n",
      "767:\tlearn: 11.9197718\ttotal: 43.5s\tremaining: 13.1s\n",
      "768:\tlearn: 11.9193693\ttotal: 43.5s\tremaining: 13.1s\n",
      "769:\tlearn: 11.9185444\ttotal: 43.6s\tremaining: 13s\n",
      "770:\tlearn: 11.9182746\ttotal: 43.7s\tremaining: 13s\n",
      "771:\tlearn: 11.9180495\ttotal: 43.7s\tremaining: 12.9s\n",
      "772:\tlearn: 11.9177119\ttotal: 43.8s\tremaining: 12.9s\n",
      "773:\tlearn: 11.9170425\ttotal: 43.8s\tremaining: 12.8s\n",
      "774:\tlearn: 11.9159131\ttotal: 43.9s\tremaining: 12.7s\n",
      "775:\tlearn: 11.9157334\ttotal: 44s\tremaining: 12.7s\n",
      "776:\tlearn: 11.9155944\ttotal: 44s\tremaining: 12.6s\n",
      "777:\tlearn: 11.9151059\ttotal: 44.1s\tremaining: 12.6s\n",
      "778:\tlearn: 11.9144420\ttotal: 44.2s\tremaining: 12.5s\n",
      "779:\tlearn: 11.9134898\ttotal: 44.2s\tremaining: 12.5s\n",
      "780:\tlearn: 11.9130503\ttotal: 44.3s\tremaining: 12.4s\n",
      "781:\tlearn: 11.9128073\ttotal: 44.4s\tremaining: 12.4s\n",
      "782:\tlearn: 11.9124566\ttotal: 44.4s\tremaining: 12.3s\n",
      "783:\tlearn: 11.9113386\ttotal: 44.5s\tremaining: 12.3s\n",
      "784:\tlearn: 11.9097644\ttotal: 44.5s\tremaining: 12.2s\n",
      "785:\tlearn: 11.9094812\ttotal: 44.6s\tremaining: 12.1s\n",
      "786:\tlearn: 11.9091919\ttotal: 44.7s\tremaining: 12.1s\n",
      "787:\tlearn: 11.9090761\ttotal: 44.7s\tremaining: 12s\n",
      "788:\tlearn: 11.9088497\ttotal: 44.8s\tremaining: 12s\n",
      "789:\tlearn: 11.9086269\ttotal: 44.8s\tremaining: 11.9s\n"
     ]
    },
    {
     "name": "stdout",
     "output_type": "stream",
     "text": [
      "790:\tlearn: 11.9083347\ttotal: 44.9s\tremaining: 11.9s\n",
      "791:\tlearn: 11.9080604\ttotal: 45s\tremaining: 11.8s\n",
      "792:\tlearn: 11.9075635\ttotal: 45.1s\tremaining: 11.8s\n",
      "793:\tlearn: 11.9074352\ttotal: 45.2s\tremaining: 11.7s\n",
      "794:\tlearn: 11.9072368\ttotal: 45.2s\tremaining: 11.7s\n",
      "795:\tlearn: 11.9071522\ttotal: 45.3s\tremaining: 11.6s\n",
      "796:\tlearn: 11.9069803\ttotal: 45.3s\tremaining: 11.5s\n",
      "797:\tlearn: 11.9053822\ttotal: 45.4s\tremaining: 11.5s\n",
      "798:\tlearn: 11.9051952\ttotal: 45.5s\tremaining: 11.4s\n",
      "799:\tlearn: 11.9045740\ttotal: 45.5s\tremaining: 11.4s\n",
      "800:\tlearn: 11.9043316\ttotal: 45.6s\tremaining: 11.3s\n",
      "801:\tlearn: 11.9039374\ttotal: 45.6s\tremaining: 11.3s\n",
      "802:\tlearn: 11.9036915\ttotal: 45.7s\tremaining: 11.2s\n",
      "803:\tlearn: 11.9035899\ttotal: 45.7s\tremaining: 11.1s\n",
      "804:\tlearn: 11.9019712\ttotal: 45.8s\tremaining: 11.1s\n",
      "805:\tlearn: 11.9017278\ttotal: 45.8s\tremaining: 11s\n",
      "806:\tlearn: 11.9016305\ttotal: 45.9s\tremaining: 11s\n",
      "807:\tlearn: 11.9012967\ttotal: 45.9s\tremaining: 10.9s\n",
      "808:\tlearn: 11.8993761\ttotal: 46s\tremaining: 10.9s\n",
      "809:\tlearn: 11.8975951\ttotal: 46s\tremaining: 10.8s\n",
      "810:\tlearn: 11.8973112\ttotal: 46.1s\tremaining: 10.7s\n",
      "811:\tlearn: 11.8968660\ttotal: 46.2s\tremaining: 10.7s\n",
      "812:\tlearn: 11.8966875\ttotal: 46.2s\tremaining: 10.6s\n",
      "813:\tlearn: 11.8960549\ttotal: 46.3s\tremaining: 10.6s\n",
      "814:\tlearn: 11.8956813\ttotal: 46.3s\tremaining: 10.5s\n",
      "815:\tlearn: 11.8946534\ttotal: 46.4s\tremaining: 10.5s\n",
      "816:\tlearn: 11.8930027\ttotal: 46.4s\tremaining: 10.4s\n",
      "817:\tlearn: 11.8926685\ttotal: 46.5s\tremaining: 10.3s\n",
      "818:\tlearn: 11.8917550\ttotal: 46.6s\tremaining: 10.3s\n",
      "819:\tlearn: 11.8910870\ttotal: 46.6s\tremaining: 10.2s\n",
      "820:\tlearn: 11.8908306\ttotal: 46.7s\tremaining: 10.2s\n",
      "821:\tlearn: 11.8902924\ttotal: 46.7s\tremaining: 10.1s\n",
      "822:\tlearn: 11.8900159\ttotal: 46.8s\tremaining: 10.1s\n",
      "823:\tlearn: 11.8886268\ttotal: 46.9s\tremaining: 10s\n",
      "824:\tlearn: 11.8885546\ttotal: 46.9s\tremaining: 9.95s\n",
      "825:\tlearn: 11.8884606\ttotal: 47s\tremaining: 9.89s\n",
      "826:\tlearn: 11.8883253\ttotal: 47s\tremaining: 9.84s\n",
      "827:\tlearn: 11.8876630\ttotal: 47.1s\tremaining: 9.78s\n",
      "828:\tlearn: 11.8874354\ttotal: 47.1s\tremaining: 9.72s\n",
      "829:\tlearn: 11.8851420\ttotal: 47.2s\tremaining: 9.67s\n",
      "830:\tlearn: 11.8843513\ttotal: 47.3s\tremaining: 9.61s\n",
      "831:\tlearn: 11.8841039\ttotal: 47.3s\tremaining: 9.56s\n",
      "832:\tlearn: 11.8838825\ttotal: 47.4s\tremaining: 9.5s\n",
      "833:\tlearn: 11.8837130\ttotal: 47.5s\tremaining: 9.44s\n",
      "834:\tlearn: 11.8832147\ttotal: 47.5s\tremaining: 9.39s\n",
      "835:\tlearn: 11.8829551\ttotal: 47.6s\tremaining: 9.33s\n",
      "836:\tlearn: 11.8822839\ttotal: 47.6s\tremaining: 9.28s\n",
      "837:\tlearn: 11.8809227\ttotal: 47.7s\tremaining: 9.22s\n",
      "838:\tlearn: 11.8805173\ttotal: 47.7s\tremaining: 9.16s\n",
      "839:\tlearn: 11.8804263\ttotal: 47.8s\tremaining: 9.1s\n",
      "840:\tlearn: 11.8797893\ttotal: 47.9s\tremaining: 9.05s\n",
      "841:\tlearn: 11.8796739\ttotal: 47.9s\tremaining: 8.99s\n",
      "842:\tlearn: 11.8791509\ttotal: 48s\tremaining: 8.93s\n",
      "843:\tlearn: 11.8789873\ttotal: 48s\tremaining: 8.87s\n",
      "844:\tlearn: 11.8784627\ttotal: 48s\tremaining: 8.81s\n",
      "845:\tlearn: 11.8782302\ttotal: 48.1s\tremaining: 8.76s\n",
      "846:\tlearn: 11.8779239\ttotal: 48.2s\tremaining: 8.7s\n",
      "847:\tlearn: 11.8778072\ttotal: 48.2s\tremaining: 8.64s\n",
      "848:\tlearn: 11.8771502\ttotal: 48.3s\tremaining: 8.59s\n",
      "849:\tlearn: 11.8749807\ttotal: 48.3s\tremaining: 8.53s\n",
      "850:\tlearn: 11.8743253\ttotal: 48.4s\tremaining: 8.47s\n",
      "851:\tlearn: 11.8738785\ttotal: 48.5s\tremaining: 8.42s\n",
      "852:\tlearn: 11.8736789\ttotal: 48.5s\tremaining: 8.36s\n",
      "853:\tlearn: 11.8726604\ttotal: 48.6s\tremaining: 8.31s\n",
      "854:\tlearn: 11.8725672\ttotal: 48.6s\tremaining: 8.25s\n",
      "855:\tlearn: 11.8724770\ttotal: 48.7s\tremaining: 8.19s\n",
      "856:\tlearn: 11.8724262\ttotal: 48.7s\tremaining: 8.13s\n",
      "857:\tlearn: 11.8722841\ttotal: 48.8s\tremaining: 8.07s\n",
      "858:\tlearn: 11.8716487\ttotal: 48.8s\tremaining: 8.02s\n",
      "859:\tlearn: 11.8714498\ttotal: 48.9s\tremaining: 7.96s\n",
      "860:\tlearn: 11.8706651\ttotal: 48.9s\tremaining: 7.9s\n",
      "861:\tlearn: 11.8704488\ttotal: 49s\tremaining: 7.85s\n",
      "862:\tlearn: 11.8701045\ttotal: 49.1s\tremaining: 7.79s\n",
      "863:\tlearn: 11.8695720\ttotal: 49.1s\tremaining: 7.73s\n",
      "864:\tlearn: 11.8691886\ttotal: 49.2s\tremaining: 7.68s\n",
      "865:\tlearn: 11.8689944\ttotal: 49.3s\tremaining: 7.62s\n",
      "866:\tlearn: 11.8686963\ttotal: 49.3s\tremaining: 7.57s\n",
      "867:\tlearn: 11.8666487\ttotal: 49.4s\tremaining: 7.51s\n",
      "868:\tlearn: 11.8664218\ttotal: 49.4s\tremaining: 7.45s\n",
      "869:\tlearn: 11.8663087\ttotal: 49.5s\tremaining: 7.39s\n",
      "870:\tlearn: 11.8660628\ttotal: 49.5s\tremaining: 7.34s\n",
      "871:\tlearn: 11.8659233\ttotal: 49.6s\tremaining: 7.28s\n",
      "872:\tlearn: 11.8656848\ttotal: 49.6s\tremaining: 7.22s\n",
      "873:\tlearn: 11.8655863\ttotal: 49.7s\tremaining: 7.16s\n",
      "874:\tlearn: 11.8650474\ttotal: 49.8s\tremaining: 7.11s\n",
      "875:\tlearn: 11.8648585\ttotal: 49.8s\tremaining: 7.05s\n",
      "876:\tlearn: 11.8647847\ttotal: 49.9s\tremaining: 6.99s\n",
      "877:\tlearn: 11.8625897\ttotal: 49.9s\tremaining: 6.94s\n",
      "878:\tlearn: 11.8620058\ttotal: 50s\tremaining: 6.88s\n",
      "879:\tlearn: 11.8617866\ttotal: 50.1s\tremaining: 6.83s\n",
      "880:\tlearn: 11.8617206\ttotal: 50.1s\tremaining: 6.77s\n",
      "881:\tlearn: 11.8615468\ttotal: 50.2s\tremaining: 6.71s\n",
      "882:\tlearn: 11.8613077\ttotal: 50.2s\tremaining: 6.66s\n",
      "883:\tlearn: 11.8609872\ttotal: 50.3s\tremaining: 6.6s\n",
      "884:\tlearn: 11.8607668\ttotal: 50.4s\tremaining: 6.54s\n",
      "885:\tlearn: 11.8601343\ttotal: 50.4s\tremaining: 6.49s\n",
      "886:\tlearn: 11.8595248\ttotal: 50.5s\tremaining: 6.43s\n",
      "887:\tlearn: 11.8591623\ttotal: 50.5s\tremaining: 6.37s\n",
      "888:\tlearn: 11.8587631\ttotal: 50.6s\tremaining: 6.32s\n",
      "889:\tlearn: 11.8585229\ttotal: 50.7s\tremaining: 6.26s\n",
      "890:\tlearn: 11.8583021\ttotal: 50.7s\tremaining: 6.21s\n",
      "891:\tlearn: 11.8579499\ttotal: 50.8s\tremaining: 6.15s\n",
      "892:\tlearn: 11.8577526\ttotal: 50.9s\tremaining: 6.09s\n",
      "893:\tlearn: 11.8575503\ttotal: 50.9s\tremaining: 6.04s\n",
      "894:\tlearn: 11.8574566\ttotal: 51s\tremaining: 5.98s\n",
      "895:\tlearn: 11.8574378\ttotal: 51s\tremaining: 5.92s\n",
      "896:\tlearn: 11.8552229\ttotal: 51.1s\tremaining: 5.86s\n",
      "897:\tlearn: 11.8551474\ttotal: 51.1s\tremaining: 5.81s\n",
      "898:\tlearn: 11.8548746\ttotal: 51.2s\tremaining: 5.75s\n",
      "899:\tlearn: 11.8544087\ttotal: 51.2s\tremaining: 5.69s\n",
      "900:\tlearn: 11.8536176\ttotal: 51.3s\tremaining: 5.63s\n",
      "901:\tlearn: 11.8531516\ttotal: 51.4s\tremaining: 5.58s\n",
      "902:\tlearn: 11.8530339\ttotal: 51.4s\tremaining: 5.52s\n",
      "903:\tlearn: 11.8526219\ttotal: 51.5s\tremaining: 5.47s\n",
      "904:\tlearn: 11.8520713\ttotal: 51.6s\tremaining: 5.41s\n",
      "905:\tlearn: 11.8506052\ttotal: 51.6s\tremaining: 5.35s\n",
      "906:\tlearn: 11.8478936\ttotal: 51.7s\tremaining: 5.3s\n",
      "907:\tlearn: 11.8465170\ttotal: 51.7s\tremaining: 5.24s\n",
      "908:\tlearn: 11.8463813\ttotal: 51.8s\tremaining: 5.18s\n",
      "909:\tlearn: 11.8448998\ttotal: 51.9s\tremaining: 5.13s\n",
      "910:\tlearn: 11.8431206\ttotal: 51.9s\tremaining: 5.07s\n",
      "911:\tlearn: 11.8426194\ttotal: 52s\tremaining: 5.01s\n",
      "912:\tlearn: 11.8425505\ttotal: 52s\tremaining: 4.96s\n",
      "913:\tlearn: 11.8421108\ttotal: 52.1s\tremaining: 4.9s\n",
      "914:\tlearn: 11.8420041\ttotal: 52.1s\tremaining: 4.84s\n",
      "915:\tlearn: 11.8408999\ttotal: 52.2s\tremaining: 4.79s\n",
      "916:\tlearn: 11.8407244\ttotal: 52.2s\tremaining: 4.73s\n",
      "917:\tlearn: 11.8404255\ttotal: 52.3s\tremaining: 4.67s\n",
      "918:\tlearn: 11.8396397\ttotal: 52.4s\tremaining: 4.61s\n",
      "919:\tlearn: 11.8383648\ttotal: 52.4s\tremaining: 4.56s\n",
      "920:\tlearn: 11.8382576\ttotal: 52.5s\tremaining: 4.5s\n",
      "921:\tlearn: 11.8382031\ttotal: 52.5s\tremaining: 4.44s\n",
      "922:\tlearn: 11.8378898\ttotal: 52.6s\tremaining: 4.39s\n",
      "923:\tlearn: 11.8377232\ttotal: 52.6s\tremaining: 4.33s\n",
      "924:\tlearn: 11.8373489\ttotal: 52.7s\tremaining: 4.27s\n",
      "925:\tlearn: 11.8371411\ttotal: 52.7s\tremaining: 4.21s\n",
      "926:\tlearn: 11.8368566\ttotal: 52.8s\tremaining: 4.16s\n",
      "927:\tlearn: 11.8362384\ttotal: 52.8s\tremaining: 4.1s\n",
      "928:\tlearn: 11.8355373\ttotal: 52.9s\tremaining: 4.04s\n",
      "929:\tlearn: 11.8353456\ttotal: 53s\tremaining: 3.98s\n",
      "930:\tlearn: 11.8352438\ttotal: 53s\tremaining: 3.93s\n",
      "931:\tlearn: 11.8350462\ttotal: 53.1s\tremaining: 3.87s\n",
      "932:\tlearn: 11.8349558\ttotal: 53.1s\tremaining: 3.81s\n",
      "933:\tlearn: 11.8347169\ttotal: 53.1s\tremaining: 3.75s\n",
      "934:\tlearn: 11.8346444\ttotal: 53.2s\tremaining: 3.7s\n",
      "935:\tlearn: 11.8344062\ttotal: 53.2s\tremaining: 3.64s\n",
      "936:\tlearn: 11.8341643\ttotal: 53.3s\tremaining: 3.58s\n",
      "937:\tlearn: 11.8340511\ttotal: 53.4s\tremaining: 3.53s\n",
      "938:\tlearn: 11.8339852\ttotal: 53.4s\tremaining: 3.47s\n",
      "939:\tlearn: 11.8322902\ttotal: 53.4s\tremaining: 3.41s\n",
      "940:\tlearn: 11.8315094\ttotal: 53.5s\tremaining: 3.35s\n",
      "941:\tlearn: 11.8313064\ttotal: 53.5s\tremaining: 3.3s\n",
      "942:\tlearn: 11.8310612\ttotal: 53.6s\tremaining: 3.24s\n",
      "943:\tlearn: 11.8308340\ttotal: 53.6s\tremaining: 3.18s\n",
      "944:\tlearn: 11.8307425\ttotal: 53.7s\tremaining: 3.13s\n",
      "945:\tlearn: 11.8298417\ttotal: 53.8s\tremaining: 3.07s\n"
     ]
    },
    {
     "name": "stdout",
     "output_type": "stream",
     "text": [
      "946:\tlearn: 11.8285613\ttotal: 53.8s\tremaining: 3.01s\n",
      "947:\tlearn: 11.8284190\ttotal: 53.9s\tremaining: 2.96s\n",
      "948:\tlearn: 11.8283376\ttotal: 54s\tremaining: 2.9s\n",
      "949:\tlearn: 11.8281272\ttotal: 54s\tremaining: 2.84s\n",
      "950:\tlearn: 11.8279634\ttotal: 54.1s\tremaining: 2.79s\n",
      "951:\tlearn: 11.8274143\ttotal: 54.1s\tremaining: 2.73s\n",
      "952:\tlearn: 11.8272000\ttotal: 54.2s\tremaining: 2.67s\n",
      "953:\tlearn: 11.8269720\ttotal: 54.2s\tremaining: 2.62s\n",
      "954:\tlearn: 11.8262759\ttotal: 54.3s\tremaining: 2.56s\n",
      "955:\tlearn: 11.8257557\ttotal: 54.4s\tremaining: 2.5s\n",
      "956:\tlearn: 11.8257196\ttotal: 54.4s\tremaining: 2.44s\n",
      "957:\tlearn: 11.8251464\ttotal: 54.5s\tremaining: 2.39s\n",
      "958:\tlearn: 11.8241388\ttotal: 54.5s\tremaining: 2.33s\n",
      "959:\tlearn: 11.8239980\ttotal: 54.6s\tremaining: 2.27s\n",
      "960:\tlearn: 11.8239362\ttotal: 54.6s\tremaining: 2.22s\n",
      "961:\tlearn: 11.8237639\ttotal: 54.7s\tremaining: 2.16s\n",
      "962:\tlearn: 11.8237012\ttotal: 54.7s\tremaining: 2.1s\n",
      "963:\tlearn: 11.8233728\ttotal: 54.8s\tremaining: 2.05s\n",
      "964:\tlearn: 11.8227917\ttotal: 54.9s\tremaining: 1.99s\n",
      "965:\tlearn: 11.8225313\ttotal: 54.9s\tremaining: 1.93s\n",
      "966:\tlearn: 11.8224226\ttotal: 55s\tremaining: 1.88s\n",
      "967:\tlearn: 11.8223238\ttotal: 55.1s\tremaining: 1.82s\n",
      "968:\tlearn: 11.8221499\ttotal: 55.1s\tremaining: 1.76s\n",
      "969:\tlearn: 11.8216748\ttotal: 55.2s\tremaining: 1.71s\n",
      "970:\tlearn: 11.8214008\ttotal: 55.2s\tremaining: 1.65s\n",
      "971:\tlearn: 11.8211761\ttotal: 55.3s\tremaining: 1.59s\n",
      "972:\tlearn: 11.8198509\ttotal: 55.4s\tremaining: 1.54s\n",
      "973:\tlearn: 11.8197438\ttotal: 55.4s\tremaining: 1.48s\n",
      "974:\tlearn: 11.8194137\ttotal: 55.5s\tremaining: 1.42s\n",
      "975:\tlearn: 11.8188738\ttotal: 55.5s\tremaining: 1.36s\n",
      "976:\tlearn: 11.8188495\ttotal: 55.6s\tremaining: 1.31s\n",
      "977:\tlearn: 11.8186410\ttotal: 55.6s\tremaining: 1.25s\n",
      "978:\tlearn: 11.8183175\ttotal: 55.7s\tremaining: 1.19s\n",
      "979:\tlearn: 11.8175635\ttotal: 55.8s\tremaining: 1.14s\n",
      "980:\tlearn: 11.8170389\ttotal: 55.8s\tremaining: 1.08s\n",
      "981:\tlearn: 11.8166970\ttotal: 55.9s\tremaining: 1.02s\n",
      "982:\tlearn: 11.8161818\ttotal: 56s\tremaining: 968ms\n",
      "983:\tlearn: 11.8150060\ttotal: 56s\tremaining: 911ms\n",
      "984:\tlearn: 11.8148015\ttotal: 56.1s\tremaining: 854ms\n",
      "985:\tlearn: 11.8142588\ttotal: 56.1s\tremaining: 797ms\n",
      "986:\tlearn: 11.8140504\ttotal: 56.2s\tremaining: 740ms\n",
      "987:\tlearn: 11.8138672\ttotal: 56.3s\tremaining: 683ms\n",
      "988:\tlearn: 11.8137522\ttotal: 56.3s\tremaining: 626ms\n",
      "989:\tlearn: 11.8131981\ttotal: 56.4s\tremaining: 569ms\n",
      "990:\tlearn: 11.8121268\ttotal: 56.4s\tremaining: 512ms\n",
      "991:\tlearn: 11.8108705\ttotal: 56.5s\tremaining: 456ms\n",
      "992:\tlearn: 11.8087722\ttotal: 56.6s\tremaining: 399ms\n",
      "993:\tlearn: 11.8086809\ttotal: 56.6s\tremaining: 342ms\n",
      "994:\tlearn: 11.8085354\ttotal: 56.7s\tremaining: 285ms\n",
      "995:\tlearn: 11.8083409\ttotal: 56.7s\tremaining: 228ms\n",
      "996:\tlearn: 11.8079844\ttotal: 56.8s\tremaining: 171ms\n",
      "997:\tlearn: 11.8071590\ttotal: 56.9s\tremaining: 114ms\n",
      "998:\tlearn: 11.8065624\ttotal: 56.9s\tremaining: 57ms\n",
      "999:\tlearn: 11.8061857\ttotal: 57s\tremaining: 0us\n"
     ]
    },
    {
     "data": {
      "text/plain": [
       "<catboost.core.CatBoostRegressor at 0x190c876a700>"
      ]
     },
     "execution_count": 25,
     "metadata": {},
     "output_type": "execute_result"
    }
   ],
   "source": [
    "import catboost as cb\n",
    "\n",
    "# parameters (along with keywords) that will be used to predict number of clickins\n",
    "features = ['market_code','pub_device','match_type','replacement_type_name','impressions'] \n",
    "target = 'clickins' # data that will be predicted\n",
    "vocabulary = tf.separate_keywords(data) # takes keywords from database and converts them to list of strings\n",
    "model = tf.create_word2vec_model(vocabulary)\n",
    "X_features, y = tf.create_features_vector(data, features, target, vocabulary, model)\n",
    "model = cb.CatBoostRegressor(loss_function='RMSE')\n",
    "model.fit(X_features, y) # model is trained afterwards, can be used to predict clickin values next"
   ]
  },
  {
   "cell_type": "markdown",
   "metadata": {},
   "source": [
    "#### using a regression model to predict the number of clickins an ad may get based on its keywords, market code, device, match type, replacement type name, and impressions can allow us to decide whether or not to bid on an ad before publishing it."
   ]
  }
 ],
 "metadata": {
  "kernelspec": {
   "display_name": "Python 3",
   "language": "python",
   "name": "python3"
  },
  "language_info": {
   "codemirror_mode": {
    "name": "ipython",
    "version": 3
   },
   "file_extension": ".py",
   "mimetype": "text/x-python",
   "name": "python",
   "nbconvert_exporter": "python",
   "pygments_lexer": "ipython3",
   "version": "3.9.5"
  }
 },
 "nbformat": 4,
 "nbformat_minor": 4
}
